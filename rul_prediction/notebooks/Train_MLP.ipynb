{
 "cells": [
  {
   "cell_type": "code",
   "execution_count": 1,
   "metadata": {},
   "outputs": [],
   "source": [
    "import os\n",
    "import sys\n",
    "\n",
    "seed = 0\n",
    "os.environ['PYTHONHASHSEED'] = str(seed)"
   ]
  },
  {
   "cell_type": "code",
   "execution_count": 2,
   "metadata": {},
   "outputs": [],
   "source": [
    "import numpy as np\n",
    "import pandas as pd\n",
    "import time\n",
    "import random\n",
    "\n",
    "from tensorflow.random import set_seed"
   ]
  },
  {
   "cell_type": "code",
   "execution_count": 3,
   "metadata": {},
   "outputs": [],
   "source": [
    "# Add modules path\n",
    "module_path = os.path.abspath('..')\n",
    "if module_path not in sys.path:\n",
    "    sys.path.append(module_path)"
   ]
  },
  {
   "cell_type": "code",
   "execution_count": 4,
   "metadata": {},
   "outputs": [],
   "source": [
    "from src.data_reader import DataReader\n",
    "from src.training import train_evaluate_mlp, MLPConfigParams\n",
    "from src.utils import numbers_list_to_string"
   ]
  },
  {
   "cell_type": "code",
   "execution_count": 5,
   "metadata": {},
   "outputs": [],
   "source": [
    "# Set seed\n",
    "random.seed(seed)\n",
    "np.random.seed(seed)\n",
    "set_seed(seed)"
   ]
  },
  {
   "cell_type": "code",
   "execution_count": 6,
   "metadata": {},
   "outputs": [],
   "source": [
    "# Set input and output paths\n",
    "filename = '../data/N-CMAPSS_DS02-006.h5'\n",
    "output_path = '../results/new_experiment'\n",
    "\n",
    "if not os.path.exists(output_path):\n",
    "    os.makedirs(output_path)"
   ]
  },
  {
   "cell_type": "code",
   "execution_count": 7,
   "metadata": {},
   "outputs": [
    {
     "name": "stdout",
     "output_type": "stream",
     "text": [
      "Operation time (sec):  3.78125\n",
      "Train set shape: (5263447, 47)\n",
      "Test set shape: (1253743, 47)\n"
     ]
    }
   ],
   "source": [
    "data_reader = DataReader()\n",
    "\n",
    "start_time = time.process_time()  \n",
    "data_reader.load_dataset(filename, load_train=True, load_test=True)\n",
    "print(\"Operation time (sec): \" , (time.process_time() - start_time))\n",
    "\n",
    "if data_reader.train_set is not None:\n",
    "    print(\"Train set shape: \" + str(data_reader.train_set.shape))\n",
    "    \n",
    "if data_reader.test_set is not None:   \n",
    "    print(\"Test set shape: \" + str(data_reader.test_set.shape))"
   ]
  },
  {
   "cell_type": "code",
   "execution_count": 8,
   "metadata": {},
   "outputs": [],
   "source": [
    "##################\n",
    "# Data preparation\n",
    "##################\n",
    "train_set = data_reader.train_set\n",
    "test_set = data_reader.test_set\n",
    "\n",
    "train_set = train_set.astype(np.float32)\n",
    "test_set = test_set.astype(np.float32)\n",
    "\n",
    "y_train = train_set['RUL']\n",
    "x_train = train_set.drop(['RUL'], axis=1)\n",
    "\n",
    "selected_columns = data_reader.column_names.w_cols + data_reader.column_names.x_s_cols\n",
    "x_train = x_train[selected_columns]\n",
    "\n",
    "y_test = test_set['RUL']\n",
    "x_test = test_set[x_train.columns]"
   ]
  },
  {
   "cell_type": "code",
   "execution_count": null,
   "metadata": {
    "scrolled": true
   },
   "outputs": [
    {
     "name": "stdout",
     "output_type": "stream",
     "text": [
      "Saved object to file: ../results/new_experiment\\split_0\\scaler.pkl\n",
      "Model: \"sequential\"\n",
      "_________________________________________________________________\n",
      "Layer (type)                 Output Shape              Param #   \n",
      "=================================================================\n",
      "dense (Dense)                (None, 256)               4864      \n",
      "_________________________________________________________________\n",
      "dense_1 (Dense)              (None, 256)               65792     \n",
      "_________________________________________________________________\n",
      "dense_2 (Dense)              (None, 512)               131584    \n",
      "_________________________________________________________________\n",
      "dense_3 (Dense)              (None, 64)                32832     \n",
      "_________________________________________________________________\n",
      "dense_4 (Dense)              (None, 1)                 65        \n",
      "=================================================================\n",
      "Total params: 235,137\n",
      "Trainable params: 235,137\n",
      "Non-trainable params: 0\n",
      "_________________________________________________________________\n",
      "Epoch 1/60\n",
      "9253/9253 [==============================] - ETA: 0s - loss: 113.2303\n",
      "Epoch 00001: val_loss improved from inf to 48.30061, saving model to ../results/new_experiment\\split_0\\mlp_model_trained.h5\n",
      "9253/9253 [==============================] - 36s 4ms/step - loss: 113.2303 - val_loss: 48.3006\n",
      "Epoch 2/60\n",
      "9239/9253 [============================>.] - ETA: 0s - loss: 44.0649\n",
      "Epoch 00002: val_loss improved from 48.30061 to 36.61972, saving model to ../results/new_experiment\\split_0\\mlp_model_trained.h5\n",
      "9253/9253 [==============================] - 36s 4ms/step - loss: 44.0611 - val_loss: 36.6197\n",
      "Epoch 3/60\n",
      "9251/9253 [============================>.] - ETA: 0s - loss: 37.6724\n",
      "Epoch 00003: val_loss did not improve from 36.61972\n",
      "9253/9253 [==============================] - 37s 4ms/step - loss: 37.6714 - val_loss: 41.3614\n",
      "Epoch 4/60\n",
      "9248/9253 [============================>.] - ETA: 0s - loss: 34.1520\n",
      "Epoch 00004: val_loss improved from 36.61972 to 32.14215, saving model to ../results/new_experiment\\split_0\\mlp_model_trained.h5\n",
      "9253/9253 [==============================] - 38s 4ms/step - loss: 34.1520 - val_loss: 32.1421\n",
      "Epoch 5/60\n",
      "9247/9253 [============================>.] - ETA: 0s - loss: 31.8831\n",
      "Epoch 00005: val_loss improved from 32.14215 to 30.33493, saving model to ../results/new_experiment\\split_0\\mlp_model_trained.h5\n",
      "9253/9253 [==============================] - 38s 4ms/step - loss: 31.8817 - val_loss: 30.3349\n",
      "Epoch 6/60\n",
      "9243/9253 [============================>.] - ETA: 0s - loss: 29.9933\n",
      "Epoch 00006: val_loss did not improve from 30.33493\n",
      "9253/9253 [==============================] - 37s 4ms/step - loss: 29.9942 - val_loss: 31.9102\n",
      "Epoch 7/60\n",
      "9247/9253 [============================>.] - ETA: 0s - loss: 28.8118\n",
      "Epoch 00007: val_loss did not improve from 30.33493\n",
      "9253/9253 [==============================] - 36s 4ms/step - loss: 28.8111 - val_loss: 31.0746\n",
      "Epoch 8/60\n",
      "9253/9253 [==============================] - ETA: 0s - loss: 27.5906\n",
      "Epoch 00008: val_loss did not improve from 30.33493\n",
      "9253/9253 [==============================] - 37s 4ms/step - loss: 27.5906 - val_loss: 33.3395\n",
      "Epoch 9/60\n",
      "9248/9253 [============================>.] - ETA: 0s - loss: 26.5727\n",
      "Epoch 00009: val_loss improved from 30.33493 to 26.04695, saving model to ../results/new_experiment\\split_0\\mlp_model_trained.h5\n",
      "9253/9253 [==============================] - 38s 4ms/step - loss: 26.5715 - val_loss: 26.0470\n",
      "Epoch 10/60\n",
      "9252/9253 [============================>.] - ETA: 0s - loss: 25.7311\n",
      "Epoch 00010: val_loss improved from 26.04695 to 25.78138, saving model to ../results/new_experiment\\split_0\\mlp_model_trained.h5\n",
      "9253/9253 [==============================] - 38s 4ms/step - loss: 25.7312 - val_loss: 25.7814\n",
      "Epoch 11/60\n",
      "9250/9253 [============================>.] - ETA: 0s - loss: 25.0075\n",
      "Epoch 00011: val_loss improved from 25.78138 to 24.09032, saving model to ../results/new_experiment\\split_0\\mlp_model_trained.h5\n",
      "9253/9253 [==============================] - 39s 4ms/step - loss: 25.0083 - val_loss: 24.0903\n",
      "Epoch 12/60\n",
      "8013/9253 [========================>.....] - ETA: 4s - loss: 24.5078"
     ]
    }
   ],
   "source": [
    "###############################\n",
    "# Model training and evaluation\n",
    "###############################\n",
    "NUM_TRIALS = 3\n",
    "EPOCHS = 60\n",
    "BATCH_SIZE = 512\n",
    "\n",
    "mlp_params = MLPConfigParams(layer_sizes=[256, 256, 512, 64], activation='tanh', dropout=0.0)\n",
    "\n",
    "results_file = os.path.join(output_path, \"eval_results.csv\")\n",
    "with open(results_file, \"w\") as file:\n",
    "    file.write(\"mse,rmse,cmapss,mse(mean),mse(std),rmse(mean),rmse(std),cmapss(mean),cmapss(std)\\n\")\n",
    "\n",
    "results_path = output_path\n",
    "\n",
    "mse_vals, rmse_vals, cmapss_vals = train_evaluate_mlp(\n",
    "    x_train, y_train, \n",
    "    x_test, y_test,\n",
    "    NUM_TRIALS, \n",
    "    mlp_params, \n",
    "    results_path, \n",
    "    EPOCHS, BATCH_SIZE,\n",
    "    results_file=results_file)"
   ]
  },
  {
   "cell_type": "code",
   "execution_count": null,
   "metadata": {},
   "outputs": [],
   "source": []
  }
 ],
 "metadata": {
  "kernelspec": {
   "display_name": "tf-keras-gpu",
   "language": "python",
   "name": "tf-keras-gpu"
  },
  "language_info": {
   "codemirror_mode": {
    "name": "ipython",
    "version": 3
   },
   "file_extension": ".py",
   "mimetype": "text/x-python",
   "name": "python",
   "nbconvert_exporter": "python",
   "pygments_lexer": "ipython3",
   "version": "3.8.5"
  }
 },
 "nbformat": 4,
 "nbformat_minor": 4
}
