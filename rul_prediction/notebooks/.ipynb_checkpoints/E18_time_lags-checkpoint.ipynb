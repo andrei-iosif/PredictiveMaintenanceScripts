{
 "cells": [
  {
   "cell_type": "code",
   "execution_count": null,
   "metadata": {},
   "outputs": [],
   "source": [
    "import os\n",
    "import sys\n",
    "\n",
    "seed = 0\n",
    "os.environ['PYTHONHASSEED'] = str(seed)"
   ]
  },
  {
   "cell_type": "code",
   "execution_count": null,
   "metadata": {},
   "outputs": [],
   "source": [
    "import numpy as np\n",
    "import pandas as pd\n",
    "import time\n",
    "import random\n",
    "\n",
    "from tensorflow.random import set_seed\n",
    "\n",
    "from sklearn.model_selection import train_test_split\n",
    "\n",
    "from keras.models import load_model"
   ]
  },
  {
   "cell_type": "code",
   "execution_count": null,
   "metadata": {},
   "outputs": [],
   "source": [
    "# Add modules path\n",
    "module_path = os.path.abspath(os.path.join('..'))\n",
    "if module_path not in sys.path:\n",
    "    sys.path.append(module_path)"
   ]
  },
  {
   "cell_type": "code",
   "execution_count": null,
   "metadata": {},
   "outputs": [],
   "source": [
    "from src.data_reader import DataReader\n",
    "from src.dataset_exploration import unit_cycle_info\n",
    "from src.feature_engineering import add_time_lags\n",
    "from src.metrics import compute_evaluation_metrics\n",
    "from src.model_evaluation import evaluate_mlp, evaluate_mlp_multiple_splits\n",
    "from src.plotting import plot_loss_curves\n",
    "from src.save_object import load_object\n",
    "from src.training import train_evaluate_mlp, MLPConfigParams\n",
    "from src.utils import numbers_list_to_string"
   ]
  },
  {
   "cell_type": "code",
   "execution_count": null,
   "metadata": {},
   "outputs": [],
   "source": [
    "# Set seed\n",
    "random.seed(seed)\n",
    "np.random.seed(seed)\n",
    "set_seed(seed)"
   ]
  },
  {
   "cell_type": "code",
   "execution_count": null,
   "metadata": {},
   "outputs": [],
   "source": [
    "# Set input and output paths\n",
    "filename = '../data/N-CMAPSS_DS02-006.h5'\n",
    "output_path = '../results/experiment_set_18'\n",
    "\n",
    "if not os.path.exists(output_path):\n",
    "    os.makedirs(output_path)"
   ]
  },
  {
   "cell_type": "code",
   "execution_count": null,
   "metadata": {},
   "outputs": [],
   "source": [
    "def preprocess_data(train_set, lags_list, selected_columns):\n",
    "    train_set_lagged = add_time_lags(train_set, lags_list, selected_columns)\n",
    "    x_train = train_set_lagged[[i for i in list(train_set_lagged.columns) if i != 'RUL']]\n",
    "    y_train = train_set_lagged['RUL']\n",
    "    return x_train, y_train"
   ]
  },
  {
   "cell_type": "code",
   "execution_count": null,
   "metadata": {},
   "outputs": [],
   "source": [
    "data_reader = DataReader()\n",
    "\n",
    "start_time = time.process_time()  \n",
    "data_reader.load_dataset(filename, load_train=True, load_test=True)\n",
    "print(\"Operation time (sec): \" , (time.process_time() - start_time))\n",
    "\n",
    "if data_reader.train_set is not None:\n",
    "    print(\"Train set shape: \" + str(data_reader.train_set.shape))\n",
    "    \n",
    "if data_reader.test_set is not None:   \n",
    "    print(\"Test set shape: \" + str(data_reader.test_set.shape))"
   ]
  },
  {
   "cell_type": "code",
   "execution_count": null,
   "metadata": {},
   "outputs": [],
   "source": [
    "train_set = data_reader.train_set"
   ]
  },
  {
   "cell_type": "code",
   "execution_count": null,
   "metadata": {},
   "outputs": [],
   "source": [
    "selected_columns = data_reader.column_names.w_cols + data_reader.column_names.x_s_cols\n",
    "selected_columns_with_unit = selected_columns + ['unit']\n",
    "train_set = train_set[selected_columns_with_unit + ['RUL']]"
   ]
  },
  {
   "cell_type": "code",
   "execution_count": null,
   "metadata": {},
   "outputs": [],
   "source": [
    "train_set = train_set.astype(np.float32)"
   ]
  },
  {
   "cell_type": "code",
   "execution_count": null,
   "metadata": {
    "scrolled": true
   },
   "outputs": [],
   "source": [
    "#########################################\n",
    "# Effect of time lags (experiment set 18)\n",
    "#########################################\n",
    "NUM_TRIALS = 3\n",
    "EPOCHS = 15\n",
    "BATCH_SIZE = 512\n",
    "\n",
    "mlp_params = MLPConfigParams(layer_sizes=[128, 256, 64], activation='tanh', dropout=0.05)\n",
    "lags_lists = [[1, 2, 3, 4, 5], [1, 5, 10, 15], [5, 10, 15, 20], [10, 15, 20, 25], [10, 20, 30, 40]]\n",
    "\n",
    "results_file = os.path.join(output_path, \"results_time_lags.csv\")\n",
    "with open(results_file, \"w\") as file:\n",
    "    file.write(\"time_lags,mse,rmse,cmapss,mse(mean),mse(std),rmse(mean),rmse(std),cmapss(mean),cmapss(std)\\n\")\n",
    "\n",
    "for idx, lags in enumerate(lags_lists):\n",
    "    results_folder = f\"results_lags_{idx}\"\n",
    "    results_path = os.path.join(output_path, results_folder)\n",
    "    if not os.path.exists(results_path):\n",
    "        os.makedirs(results_path)\n",
    "    \n",
    "    with open(results_file, \"a\") as file:\n",
    "        file.write(f\"{numbers_list_to_string(lags)},\")\n",
    "    \n",
    "    # Add time lags\n",
    "    x_train, y_train = preprocess_data(train_set, lags, selected_columns) \n",
    "    \n",
    "    # Validation split\n",
    "    x_train_split, x_holdout_split, y_train_split, y_holdout_split = train_test_split(\n",
    "        x_train, \n",
    "        y_train, \n",
    "        test_size=0.3, \n",
    "        random_state=seed)\n",
    "    \n",
    "    mse_vals, rmse_vals, cmapss_vals = train_evaluate_mlp(\n",
    "        x_train_split, y_train_split, \n",
    "        x_holdout_split, y_holdout_split,\n",
    "        NUM_TRIALS, \n",
    "        mlp_params, \n",
    "        results_path, \n",
    "        EPOCHS, BATCH_SIZE,\n",
    "        results_file=results_file)"
   ]
  },
  {
   "cell_type": "code",
   "execution_count": null,
   "metadata": {},
   "outputs": [],
   "source": []
  }
 ],
 "metadata": {
  "kernelspec": {
   "display_name": "tf-keras-gpu",
   "language": "python",
   "name": "tf-keras-gpu"
  },
  "language_info": {
   "codemirror_mode": {
    "name": "ipython",
    "version": 3
   },
   "file_extension": ".py",
   "mimetype": "text/x-python",
   "name": "python",
   "nbconvert_exporter": "python",
   "pygments_lexer": "ipython3",
   "version": "3.8.5"
  }
 },
 "nbformat": 4,
 "nbformat_minor": 4
}
