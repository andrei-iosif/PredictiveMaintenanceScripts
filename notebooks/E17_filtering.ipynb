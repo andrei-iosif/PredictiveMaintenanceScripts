{
 "cells": [
  {
   "cell_type": "code",
   "execution_count": 1,
   "metadata": {},
   "outputs": [],
   "source": [
    "import os\n",
    "import sys\n",
    "\n",
    "seed = 0\n",
    "os.environ['PYTHONHASSEED'] = str(seed)"
   ]
  },
  {
   "cell_type": "code",
   "execution_count": 2,
   "metadata": {},
   "outputs": [],
   "source": [
    "import numpy as np\n",
    "import pandas as pd\n",
    "import time\n",
    "import random\n",
    "\n",
    "from tensorflow.random import set_seed\n",
    "\n",
    "from sklearn.model_selection import train_test_split\n",
    "\n",
    "from keras.models import load_model"
   ]
  },
  {
   "cell_type": "code",
   "execution_count": 3,
   "metadata": {},
   "outputs": [],
   "source": [
    "# Add modules path\n",
    "module_path = os.path.abspath(os.path.join('..'))\n",
    "if module_path not in sys.path:\n",
    "    sys.path.append(module_path)"
   ]
  },
  {
   "cell_type": "code",
   "execution_count": 14,
   "metadata": {},
   "outputs": [],
   "source": [
    "from src.data_reader import DataReader\n",
    "from src.dataset_exploration import unit_cycle_info\n",
    "from src.metrics import compute_evaluation_metrics\n",
    "from src.model_evaluation import evaluate_mlp, evaluate_mlp_multiple_splits\n",
    "from src.plotting import plot_loss_curves\n",
    "from src.save_object import load_object\n",
    "from src.training import train_evaluate_mlp, MLPConfigParams"
   ]
  },
  {
   "cell_type": "code",
   "execution_count": 5,
   "metadata": {},
   "outputs": [],
   "source": [
    "# Set seed\n",
    "random.seed(seed)\n",
    "np.random.seed(seed)\n",
    "set_seed(seed)"
   ]
  },
  {
   "cell_type": "code",
   "execution_count": 6,
   "metadata": {},
   "outputs": [],
   "source": [
    "# Set input and output paths\n",
    "filename = '../data/N-CMAPSS_DS02-006.h5'\n",
    "output_path = '../results/experiment_set_17'\n",
    "\n",
    "if not os.path.exists(output_path):\n",
    "    os.makedirs(output_path)"
   ]
  },
  {
   "cell_type": "code",
   "execution_count": 7,
   "metadata": {},
   "outputs": [
    {
     "name": "stdout",
     "output_type": "stream",
     "text": [
      "Operation time (sec):  4.765625\n",
      "Train set shape: (5263447, 47)\n",
      "Test set shape: (1253743, 47)\n"
     ]
    }
   ],
   "source": [
    "data_reader = DataReader()\n",
    "\n",
    "start_time = time.process_time()  \n",
    "data_reader.load_dataset(filename, load_train=True, load_test=True)\n",
    "print(\"Operation time (sec): \" , (time.process_time() - start_time))\n",
    "\n",
    "if data_reader.train_set is not None:\n",
    "    print(\"Train set shape: \" + str(data_reader.train_set.shape))\n",
    "    \n",
    "if data_reader.test_set is not None:   \n",
    "    print(\"Test set shape: \" + str(data_reader.test_set.shape))"
   ]
  },
  {
   "cell_type": "code",
   "execution_count": 8,
   "metadata": {},
   "outputs": [],
   "source": [
    "train_set = data_reader.train_set"
   ]
  },
  {
   "cell_type": "code",
   "execution_count": 9,
   "metadata": {},
   "outputs": [],
   "source": [
    "y_train = train_set['RUL']\n",
    "x_train = train_set.drop(['RUL'], axis=1)"
   ]
  },
  {
   "cell_type": "code",
   "execution_count": 10,
   "metadata": {},
   "outputs": [],
   "source": [
    "selected_columns = data_reader.column_names.w_cols + data_reader.column_names.x_s_cols\n",
    "selected_columns_with_unit = selected_columns + ['unit']\n",
    "x_train = x_train[selected_columns_with_unit]"
   ]
  },
  {
   "cell_type": "code",
   "execution_count": 11,
   "metadata": {},
   "outputs": [],
   "source": [
    "x_train = x_train.astype(np.float32)\n",
    "y_train = y_train.astype(np.float32)"
   ]
  },
  {
   "cell_type": "code",
   "execution_count": null,
   "metadata": {},
   "outputs": [
    {
     "name": "stdout",
     "output_type": "stream",
     "text": [
      "Saved object to file: ../results/experiment_set_17\\results_None_0\\split_0\\scaler.pkl\n",
      "Model: \"sequential\"\n",
      "_________________________________________________________________\n",
      "Layer (type)                 Output Shape              Param #   \n",
      "=================================================================\n",
      "dense (Dense)                (None, 128)               2432      \n",
      "_________________________________________________________________\n",
      "dropout (Dropout)            (None, 128)               0         \n",
      "_________________________________________________________________\n",
      "dense_1 (Dense)              (None, 256)               33024     \n",
      "_________________________________________________________________\n",
      "dropout_1 (Dropout)          (None, 256)               0         \n",
      "_________________________________________________________________\n",
      "dense_2 (Dense)              (None, 64)                16448     \n",
      "_________________________________________________________________\n",
      "dropout_2 (Dropout)          (None, 64)                0         \n",
      "_________________________________________________________________\n",
      "dense_3 (Dense)              (None, 1)                 65        \n",
      "=================================================================\n",
      "Total params: 51,969\n",
      "Trainable params: 51,969\n",
      "Non-trainable params: 0\n",
      "_________________________________________________________________\n",
      "Epoch 1/15\n",
      "6470/6477 [============================>.] - ETA: 0s - loss: 150.6763\n",
      "Epoch 00001: val_loss improved from inf to 53.59595, saving model to ../results/experiment_set_17\\results_None_0\\split_0\\mlp_model_trained.h5\n",
      "6477/6477 [==============================] - 20s 3ms/step - loss: 150.5837 - val_loss: 53.5959\n",
      "Epoch 2/15\n",
      "6475/6477 [============================>.] - ETA: 0s - loss: 55.9493\n",
      "Epoch 00002: val_loss improved from 53.59595 to 47.54967, saving model to ../results/experiment_set_17\\results_None_0\\split_0\\mlp_model_trained.h5\n",
      "6477/6477 [==============================] - 20s 3ms/step - loss: 55.9492 - val_loss: 47.5497\n",
      "Epoch 3/15\n",
      "6462/6477 [============================>.] - ETA: 0s - loss: 53.4049\n",
      "Epoch 00003: val_loss improved from 47.54967 to 44.86111, saving model to ../results/experiment_set_17\\results_None_0\\split_0\\mlp_model_trained.h5\n",
      "6477/6477 [==============================] - 21s 3ms/step - loss: 53.4061 - val_loss: 44.8611\n",
      "Epoch 4/15\n",
      "6463/6477 [============================>.] - ETA: 0s - loss: 51.0335\n",
      "Epoch 00004: val_loss did not improve from 44.86111\n",
      "6477/6477 [==============================] - 20s 3ms/step - loss: 51.0285 - val_loss: 45.6976\n",
      "Epoch 5/15\n",
      "6476/6477 [============================>.] - ETA: 0s - loss: 49.1020\n",
      "Epoch 00005: val_loss improved from 44.86111 to 40.84380, saving model to ../results/experiment_set_17\\results_None_0\\split_0\\mlp_model_trained.h5\n",
      "6477/6477 [==============================] - 20s 3ms/step - loss: 49.1013 - val_loss: 40.8438\n",
      "Epoch 6/15\n",
      "6477/6477 [==============================] - ETA: 0s - loss: 47.5493\n",
      "Epoch 00006: val_loss did not improve from 40.84380\n",
      "6477/6477 [==============================] - 19s 3ms/step - loss: 47.5493 - val_loss: 48.1088\n",
      "Epoch 7/15\n",
      "6468/6477 [============================>.] - ETA: 0s - loss: 46.3241\n",
      "Epoch 00007: val_loss improved from 40.84380 to 38.54494, saving model to ../results/experiment_set_17\\results_None_0\\split_0\\mlp_model_trained.h5\n",
      "6477/6477 [==============================] - 20s 3ms/step - loss: 46.3219 - val_loss: 38.5449\n",
      "Epoch 8/15\n",
      "6463/6477 [============================>.] - ETA: 0s - loss: 45.1931\n",
      "Epoch 00008: val_loss improved from 38.54494 to 38.09590, saving model to ../results/experiment_set_17\\results_None_0\\split_0\\mlp_model_trained.h5\n",
      "6477/6477 [==============================] - 20s 3ms/step - loss: 45.1886 - val_loss: 38.0959\n",
      "Epoch 9/15\n",
      "6470/6477 [============================>.] - ETA: 0s - loss: 44.2516\n",
      "Epoch 00009: val_loss did not improve from 38.09590\n",
      "6477/6477 [==============================] - 20s 3ms/step - loss: 44.2571 - val_loss: 42.6854\n",
      "Epoch 10/15\n",
      "6467/6477 [============================>.] - ETA: 0s - loss: 43.4576\n",
      "Epoch 00010: val_loss did not improve from 38.09590\n",
      "6477/6477 [==============================] - 20s 3ms/step - loss: 43.4596 - val_loss: 40.4246\n",
      "Epoch 11/15\n",
      "6461/6477 [============================>.] - ETA: 0s - loss: 42.7279\n",
      "Epoch 00011: val_loss did not improve from 38.09590\n",
      "6477/6477 [==============================] - 20s 3ms/step - loss: 42.7292 - val_loss: 38.7388\n",
      "Epoch 12/15\n",
      "6465/6477 [============================>.] - ETA: 0s - loss: 42.1524\n",
      "Epoch 00012: val_loss improved from 38.09590 to 34.72962, saving model to ../results/experiment_set_17\\results_None_0\\split_0\\mlp_model_trained.h5\n",
      "6477/6477 [==============================] - 20s 3ms/step - loss: 42.1516 - val_loss: 34.7296\n",
      "Epoch 13/15\n",
      "6468/6477 [============================>.] - ETA: 0s - loss: 41.5144\n",
      "Epoch 00013: val_loss improved from 34.72962 to 33.85142, saving model to ../results/experiment_set_17\\results_None_0\\split_0\\mlp_model_trained.h5\n",
      "6477/6477 [==============================] - 20s 3ms/step - loss: 41.5120 - val_loss: 33.8514\n",
      "Epoch 14/15\n",
      "6475/6477 [============================>.] - ETA: 0s - loss: 40.8567\n",
      "Epoch 00014: val_loss improved from 33.85142 to 33.64994, saving model to ../results/experiment_set_17\\results_None_0\\split_0\\mlp_model_trained.h5\n",
      "6477/6477 [==============================] - 20s 3ms/step - loss: 40.8551 - val_loss: 33.6499\n",
      "Epoch 15/15\n",
      "6475/6477 [============================>.] - ETA: 0s - loss: 40.3850\n",
      "Epoch 00015: val_loss did not improve from 33.64994\n",
      "6477/6477 [==============================] - 20s 3ms/step - loss: 40.3859 - val_loss: 34.9098\n"
     ]
    },
    {
     "data": {
      "image/png": "[encoded data removed]",
      "text/plain": [
       "<Figure size 432x288 with 1 Axes>"
      ]
     },
     "metadata": {
      "needs_background": "light"
     },
     "output_type": "display_data"
    },
    {
     "name": "stdout",
     "output_type": "stream",
     "text": [
      "Saved object to file: ../results/experiment_set_17\\results_None_0\\split_0\\history_0.pkl\n",
      "Test set:\n",
      "MSE: 33.55\n",
      "RMSE: 5.79\n",
      "CMAPSS score: 1.59\n",
      "\n",
      "Saved object to file: ../results/experiment_set_17\\results_None_0\\split_1\\scaler.pkl\n",
      "Model: \"sequential_1\"\n",
      "_________________________________________________________________\n",
      "Layer (type)                 Output Shape              Param #   \n",
      "=================================================================\n",
      "dense_4 (Dense)              (None, 128)               2432      \n",
      "_________________________________________________________________\n",
      "dropout_3 (Dropout)          (None, 128)               0         \n",
      "_________________________________________________________________\n",
      "dense_5 (Dense)              (None, 256)               33024     \n",
      "_________________________________________________________________\n",
      "dropout_4 (Dropout)          (None, 256)               0         \n",
      "_________________________________________________________________\n",
      "dense_6 (Dense)              (None, 64)                16448     \n",
      "_________________________________________________________________\n",
      "dropout_5 (Dropout)          (None, 64)                0         \n",
      "_________________________________________________________________\n",
      "dense_7 (Dense)              (None, 1)                 65        \n",
      "=================================================================\n",
      "Total params: 51,969\n",
      "Trainable params: 51,969\n",
      "Non-trainable params: 0\n",
      "_________________________________________________________________\n",
      "Epoch 1/15\n",
      "6461/6477 [============================>.] - ETA: 0s - loss: 147.0374\n",
      "Epoch 00001: val_loss improved from inf to 52.06453, saving model to ../results/experiment_set_17\\results_None_0\\split_1\\mlp_model_trained.h5\n",
      "6477/6477 [==============================] - 20s 3ms/step - loss: 146.8282 - val_loss: 52.0645\n",
      "Epoch 2/15\n",
      "6468/6477 [============================>.] - ETA: 0s - loss: 56.0632\n",
      "Epoch 00002: val_loss improved from 52.06453 to 49.04567, saving model to ../results/experiment_set_17\\results_None_0\\split_1\\mlp_model_trained.h5\n",
      "6477/6477 [==============================] - 21s 3ms/step - loss: 56.0610 - val_loss: 49.0457\n",
      "Epoch 3/15\n",
      "6467/6477 [============================>.] - ETA: 0s - loss: 53.5724\n",
      "Epoch 00003: val_loss improved from 49.04567 to 46.51435, saving model to ../results/experiment_set_17\\results_None_0\\split_1\\mlp_model_trained.h5\n",
      "6477/6477 [==============================] - 21s 3ms/step - loss: 53.5725 - val_loss: 46.5144\n",
      "Epoch 4/15\n",
      "6460/6477 [============================>.] - ETA: 0s - loss: 51.6814\n",
      "Epoch 00004: val_loss improved from 46.51435 to 45.94391, saving model to ../results/experiment_set_17\\results_None_0\\split_1\\mlp_model_trained.h5\n",
      "6477/6477 [==============================] - 21s 3ms/step - loss: 51.6752 - val_loss: 45.9439\n",
      "Epoch 5/15\n",
      "6465/6477 [============================>.] - ETA: 0s - loss: 49.6680\n",
      "Epoch 00005: val_loss did not improve from 45.94391\n",
      "6477/6477 [==============================] - 20s 3ms/step - loss: 49.6713 - val_loss: 48.0999\n",
      "Epoch 6/15\n",
      "6477/6477 [==============================] - ETA: 0s - loss: 48.1653\n",
      "Epoch 00006: val_loss improved from 45.94391 to 40.73104, saving model to ../results/experiment_set_17\\results_None_0\\split_1\\mlp_model_trained.h5\n",
      "6477/6477 [==============================] - 20s 3ms/step - loss: 48.1653 - val_loss: 40.7310\n",
      "Epoch 7/15\n",
      "2946/6477 [============>.................] - ETA: 9s - loss: 47.1272 "
     ]
    }
   ],
   "source": [
    "#########################################\n",
    "# Effect of smoothing (experiment set 17)\n",
    "#########################################\n",
    "NUM_TRIALS = 3\n",
    "EPOCHS = 15\n",
    "BATCH_SIZE = 512\n",
    "\n",
    "mlp_params = MLPConfigParams(layer_sizes=[128, 256, 64], activation='tanh', dropout=0.05)\n",
    "alpha_vals = [0.01, 0.05, 0.1, 0.2, 0.3]\n",
    "w_vals = [5, 10, 15, 20]\n",
    "\n",
    "filter_params = [(\"None\", 0)] + [(\"es\", alpha) for alpha in alpha_vals] + [(\"ma\", w) for w in w_vals]\n",
    "\n",
    "results_file = os.path.join(output_path, \"results_filtering.csv\")\n",
    "with open(results_file, \"w\") as file:\n",
    "    file.write(\"filter_type,filter_param,mse,rmse,cmapss,mse(mean),mse(std),rmse(mean),rmse(std),cmapss(mean),cmapss(std)\\n\")\n",
    "\n",
    "\n",
    "for params in filter_params:\n",
    "    filter_type, filter_param = params\n",
    "    \n",
    "    results_folder = f\"results_{filter_type}_{filter_param}\"\n",
    "    results_path = os.path.join(output_path, results_folder)\n",
    "    if not os.path.exists(results_path):\n",
    "        os.makedirs(results_path)\n",
    "    \n",
    "    # Filtering\n",
    "    if filter_type == \"None\":\n",
    "        x_train_filtered = x_train[selected_columns].astype(np.float32)\n",
    "    else:\n",
    "        x_train_filtered = signal_smoothing(x_train, selected_columns, filter_type, filter_param)\n",
    "        x_train_filtered = x_train_filtered[selected_columns].astype(np.float32)\n",
    "    \n",
    "    # Validation split\n",
    "    x_train_filtered, x_holdout_filtered, y_train_filtered, y_holdout_filtered = train_test_split(\n",
    "        x_train_filtered, \n",
    "        y_train, \n",
    "        test_size=0.3, \n",
    "        random_state=seed)\n",
    "    \n",
    "    mse_vals, rmse_vals, cmapss_vals = train_evaluate_mlp(\n",
    "        x_train_filtered, y_train_filtered, \n",
    "        x_holdout_filtered, y_holdout_filtered,\n",
    "        NUM_TRIALS, \n",
    "        mlp_params, \n",
    "        results_path, \n",
    "        EPOCHS, BATCH_SIZE,\n",
    "        results_file=results_file)"
   ]
  },
  {
   "cell_type": "code",
   "execution_count": 50,
   "metadata": {},
   "outputs": [],
   "source": []
  }
 ],
 "metadata": {
  "kernelspec": {
   "display_name": "tf-keras-gpu",
   "language": "python",
   "name": "tf-keras-gpu"
  },
  "language_info": {
   "codemirror_mode": {
    "name": "ipython",
    "version": 3
   },
   "file_extension": ".py",
   "mimetype": "text/x-python",
   "name": "python",
   "nbconvert_exporter": "python",
   "pygments_lexer": "ipython3",
   "version": "3.8.5"
  }
 },
 "nbformat": 4,
 "nbformat_minor": 4
}
