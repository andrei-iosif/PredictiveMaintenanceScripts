{
 "cells": [
  {
   "cell_type": "code",
   "execution_count": 1,
   "metadata": {},
   "outputs": [],
   "source": [
    "import h5py\n",
    "import numpy as np\n",
    "import pandas as pd\n",
    "import matplotlib\n",
    "import matplotlib.pyplot as plt\n",
    "from matplotlib import gridspec\n",
    "import seaborn as sns\n",
    "import time\n",
    "import os\n",
    "\n",
    "from sklearn.decomposition import PCA\n",
    "from sklearn.preprocessing import StandardScaler\n",
    "from sklearn.model_selection import train_test_split\n",
    "from sklearn.feature_selection import VarianceThreshold"
   ]
  },
  {
   "cell_type": "code",
   "execution_count": 2,
   "metadata": {},
   "outputs": [],
   "source": [
    "seed = 42\n",
    "os.environ['PYTHONHASSEED'] = str(seed)\n",
    "np.random.seed(seed)"
   ]
  },
  {
   "cell_type": "code",
   "execution_count": 3,
   "metadata": {},
   "outputs": [],
   "source": [
    "filename = '../data/turbofan_dataset/N-CMAPSS_DS02-006.h5'\n",
    "output_path = 'DS02'\n",
    "# filename = '../data/turbofan_dataset/N-CMAPSS_DS04.h5'\n",
    "# output_path = 'DS04'"
   ]
  },
  {
   "cell_type": "code",
   "execution_count": 4,
   "metadata": {},
   "outputs": [],
   "source": [
    "if not os.path.exists(output_path):\n",
    "    os.makedirs(output_path)"
   ]
  },
  {
   "cell_type": "code",
   "execution_count": 5,
   "metadata": {},
   "outputs": [],
   "source": [
    "def load_dataset(filename):\n",
    "    \"\"\" Reads a dataset from a given .h5 file and compose (in memory) the train and test data. \n",
    "    Args:\n",
    "        filename(str): path to the .h5 file\n",
    "    Returns:\n",
    "        train_set(pd.DataFrame), test_set(pd.DataFrame)\n",
    "    \"\"\"\n",
    "    with h5py.File(filename, 'r') as hdf:\n",
    "        # Development set\n",
    "        W_dev = np.array(hdf.get('W_dev'))             # W\n",
    "        X_s_dev = np.array(hdf.get('X_s_dev'))         # X_s\n",
    "        X_v_dev = np.array(hdf.get('X_v_dev'))         # X_v\n",
    "        T_dev = np.array(hdf.get('T_dev'))             # T\n",
    "        Y_dev = np.array(hdf.get('Y_dev'))             # RUL  \n",
    "        A_dev = np.array(hdf.get('A_dev'))             # Auxiliary\n",
    "\n",
    "        # Test set\n",
    "        W_test = np.array(hdf.get('W_test'))           # W\n",
    "        X_s_test = np.array(hdf.get('X_s_test'))       # X_s\n",
    "        X_v_test = np.array(hdf.get('X_v_test'))       # X_v\n",
    "        T_test = np.array(hdf.get('T_test'))           # T\n",
    "        Y_test = np.array(hdf.get('Y_test'))           # RUL  \n",
    "        A_test = np.array(hdf.get('A_test'))           # Auxiliary\n",
    "        \n",
    "        # Varnams\n",
    "        W_var = np.array(hdf.get('W_var'))\n",
    "        X_s_var = np.array(hdf.get('X_s_var'))  \n",
    "        X_v_var = np.array(hdf.get('X_v_var')) \n",
    "        T_var = np.array(hdf.get('T_var'))\n",
    "        A_var = np.array(hdf.get('A_var'))\n",
    "        \n",
    "        columns = []\n",
    "        columns += list(np.array(A_var, dtype='U20'))\n",
    "        columns += list(np.array(T_var, dtype='U20'))\n",
    "        columns += list(np.array(X_s_var, dtype='U20'))\n",
    "        columns += list(np.array(X_v_var, dtype='U20'))\n",
    "        columns += list(np.array(W_var, dtype='U20'))\n",
    "        columns += ['RUL']\n",
    "        \n",
    "    train_set = np.concatenate((A_dev, T_dev, X_s_dev, X_v_dev, W_dev, Y_dev), axis=1)\n",
    "    test_set = np.concatenate((A_test, T_test, X_s_test, X_v_test, W_test, Y_test), axis=1)\n",
    "    \n",
    "    return pd.DataFrame(data=train_set, columns=columns), pd.DataFrame(data=test_set, columns=columns)"
   ]
  },
  {
   "cell_type": "code",
   "execution_count": 6,
   "metadata": {},
   "outputs": [
    {
     "name": "stdout",
     "output_type": "stream",
     "text": [
      "\n",
      "Operation time (sec):  3.828125\n",
      "\n",
      "Train set shape: (5263447, 47)\n",
      "Test set shape: (1253743, 47)\n"
     ]
    }
   ],
   "source": [
    "start_time = time.process_time()  \n",
    "train_set, test_set = load_dataset(filename)\n",
    "print('')\n",
    "print(\"Operation time (sec): \" , (time.process_time() - start_time))\n",
    "print('')\n",
    "print (\"Train set shape: \" + str(train_set.shape))\n",
    "print (\"Test set shape: \" + str(test_set.shape))"
   ]
  },
  {
   "cell_type": "code",
   "execution_count": 7,
   "metadata": {},
   "outputs": [],
   "source": [
    "def print_unit_cycle_info(df):\n",
    "    unit_ids = np.unique(df['unit'])\n",
    "    print('Engine units in df: ', unit_ids)\n",
    "    for i in unit_ids:\n",
    "        num_cycles = len(np.unique(df.loc[df['unit'] == i, 'cycle']))\n",
    "        print('Unit: ', i, ' - Number of flight cycles: ', num_cycles)\n",
    "        \n",
    "    cycle_ids = np.unique(df['cycle'])\n",
    "    print('Total number of cycles: ', len(cycle_ids))\n",
    "    min_len = np.inf\n",
    "    max_len = 0\n",
    "    for i in cycle_ids:\n",
    "        cycle_len = len(df.loc[df['cycle'] == i, 'cycle'])\n",
    "        if cycle_len < min_len:\n",
    "            min_len = cycle_len\n",
    "        elif cycle_len > max_len:\n",
    "            max_len = cycle_len\n",
    "    print('Min cycle length: ', min_len)\n",
    "    print('Max cycle length: ', max_len)"
   ]
  },
  {
   "cell_type": "code",
   "execution_count": 8,
   "metadata": {},
   "outputs": [],
   "source": [
    "x_train, y_train = train_set.iloc[:, :-1], train_set.iloc[:, -1]\n",
    "x_train, x_valid, y_train, y_valid = train_test_split(x_train, y_train, test_size=0.33, shuffle=False)"
   ]
  },
  {
   "cell_type": "code",
   "execution_count": 9,
   "metadata": {},
   "outputs": [
    {
     "data": {
      "text/plain": [
       "(3526509, 46)"
      ]
     },
     "execution_count": 9,
     "metadata": {},
     "output_type": "execute_result"
    }
   ],
   "source": [
    "x_train.shape"
   ]
  },
  {
   "cell_type": "code",
   "execution_count": 10,
   "metadata": {},
   "outputs": [],
   "source": [
    "# Filter constant and quasi-constant features\n",
    "def get_quasi_constant_features(dataset, variance_th=0.01, debug=True):\n",
    "    constant_filter = VarianceThreshold(threshold=variance_th)\n",
    "    constant_filter.fit(dataset)\n",
    "    constant_features = [col for col in dataset.columns \n",
    "                         if col not in dataset.columns[constant_filter.get_support()]]\n",
    "    \n",
    "    if debug:\n",
    "        print(\"Number of non-constant features: \", len(dataset.columns[constant_filter.get_support()]))\n",
    "        \n",
    "        print(\"Number of quasi-constant features: \", len(constant_features))\n",
    "        print(\"Quasi-constant features: \")\n",
    "        for col in constant_features:\n",
    "            print(col)\n",
    "    return constant_features\n",
    "\n",
    "def get_non_correlated_features(dataset, corr_th=0.9, debug=True):\n",
    "    corr_mat = dataset.corr()\n",
    "    corr_mat = np.abs(corr_mat)\n",
    "    \n",
    "    N = corr_mat.shape[0]\n",
    "    columns = np.full((N,), True, dtype=bool)\n",
    "    for i in range(N):\n",
    "        for j in range(i+1, N):\n",
    "            if corr_mat.iloc[i, j] >= corr_th:\n",
    "                if columns[j]:\n",
    "                    columns[j] = False\n",
    "    if debug:        \n",
    "        correlated_features = dataset.columns[~columns]\n",
    "        print(\"Number of correlated features: \", len(correlated_features))\n",
    "        print(\"Correlated features: \")\n",
    "        for col in correlated_features:\n",
    "            print(col)\n",
    "    \n",
    "    selected_columns = dataset.columns[columns]\n",
    "    return selected_columns"
   ]
  },
  {
   "cell_type": "code",
   "execution_count": 11,
   "metadata": {},
   "outputs": [
    {
     "name": "stdout",
     "output_type": "stream",
     "text": [
      "Number of non-constant features:  34\n",
      "Number of quasi-constant features:  12\n",
      "Quasi-constant features: \n",
      "Fc\n",
      "fan_eff_mod\n",
      "fan_flow_mod\n",
      "LPC_eff_mod\n",
      "LPC_flow_mod\n",
      "HPC_eff_mod\n",
      "HPC_flow_mod\n",
      "HPT_eff_mod\n",
      "HPT_flow_mod\n",
      "LPT_eff_mod\n",
      "LPT_flow_mod\n",
      "Mach\n",
      "New shape:  (3526509, 34)\n"
     ]
    }
   ],
   "source": [
    "constant_features = get_quasi_constant_features(x_train)\n",
    "x_train.drop(labels=constant_features, axis=1, inplace=True)\n",
    "x_valid.drop(labels=constant_features, axis=1, inplace=True)\n",
    "print(\"New shape: \", x_train.shape)"
   ]
  },
  {
   "cell_type": "code",
   "execution_count": 12,
   "metadata": {},
   "outputs": [
    {
     "name": "stdout",
     "output_type": "stream",
     "text": [
      "Number of correlated features:  26\n",
      "Correlated features: \n",
      "T48\n",
      "T50\n",
      "P2\n",
      "P21\n",
      "P24\n",
      "Ps30\n",
      "P40\n",
      "P50\n",
      "Nf\n",
      "Nc\n",
      "Wf\n",
      "T40\n",
      "P30\n",
      "P45\n",
      "W21\n",
      "W22\n",
      "W25\n",
      "W31\n",
      "W32\n",
      "W48\n",
      "W50\n",
      "SmHPC\n",
      "phi\n",
      "alt\n",
      "TRA\n",
      "T2\n",
      "New shape:  (3526509, 8)\n"
     ]
    }
   ],
   "source": [
    "# Remove highly correlated features\n",
    "selected_columns = get_non_correlated_features(x_train)\n",
    "x_train = x_train[selected_columns]\n",
    "x_valid = x_valid[selected_columns]\n",
    "print(\"New shape: \", x_train.shape)"
   ]
  },
  {
   "cell_type": "code",
   "execution_count": 13,
   "metadata": {},
   "outputs": [],
   "source": [
    "# Drop auxiliary data columns\n",
    "auxiliary_columns = ['cycle', 'hs', 'Fc']\n",
    "x_train.drop(labels=[x for x in auxiliary_columns if x in x_train.columns], axis=1, inplace=True)\n",
    "x_valid.drop(labels=[x for x in auxiliary_columns if x in x_valid.columns], axis=1, inplace=True)"
   ]
  },
  {
   "cell_type": "code",
   "execution_count": 15,
   "metadata": {},
   "outputs": [],
   "source": [
    "# Time window processing\n",
    "def time_window_processing(X, y, column_names, unit_ids, window_size):\n",
    "    df = pd.concat([X, y], axis=1)\n",
    "    lag_columns = []\n",
    "    \n",
    "    for col_name in column_names:\n",
    "        for i in range(1, window_size):\n",
    "            partial_columns = []\n",
    "            for j in range(len(unit_ids)):\n",
    "                unit_df = df.loc[df['unit'] == unit_ids[j], :]\n",
    "                col = unit_df[col_name].shift(i)\n",
    "                col.name = '{}(t-{})'.format(col_name, i)\n",
    "                partial_columns.append(col)\n",
    "            column = pd.concat(partial_columns)\n",
    "            lag_columns.append(column)\n",
    "    \n",
    "    df = pd.concat([df] + lag_columns, axis=1)\n",
    "    df.dropna(inplace=True)\n",
    "    df.drop(labels=['unit'], axis=1, inplace=True)\n",
    "    df.reset_index(drop=True, inplace=True)\n",
    "    \n",
    "    feature_columns = [col for col in df.columns.values if col != 'RUL']    \n",
    "    return df[feature_columns], df['RUL']"
   ]
  },
  {
   "cell_type": "code",
   "execution_count": 16,
   "metadata": {},
   "outputs": [
    {
     "name": "stdout",
     "output_type": "stream",
     "text": [
      "Columns:  ['T24', 'T30', 'P15', 'SmFan', 'SmLPC']\n",
      "Unit ids (train):  [ 2.  5. 10. 16.]\n",
      "Unit ids (validation):  [16. 18. 20.]\n"
     ]
    }
   ],
   "source": [
    "W = 10\n",
    "col_names = [col for col in x_train.columns if col != 'unit']\n",
    "train_unit_ids = np.unique(x_train['unit'])\n",
    "valid_unit_ids = np.unique(x_valid['unit'])\n",
    "print('Columns: ', col_names)\n",
    "print('Unit ids (train): ', train_unit_ids)\n",
    "print('Unit ids (validation): ', valid_unit_ids)"
   ]
  },
  {
   "cell_type": "code",
   "execution_count": 17,
   "metadata": {},
   "outputs": [],
   "source": [
    "x_train_tw, y_train_tw = time_window_processing(x_train, y_train, col_names, train_unit_ids, W)\n",
    "x_valid_tw, y_valid_tw = time_window_processing(x_valid, y_valid, col_names, valid_unit_ids, W)"
   ]
  },
  {
   "cell_type": "code",
   "execution_count": 19,
   "metadata": {},
   "outputs": [],
   "source": [
    "def apply_pca(dataset, explained_variance=0.99, scaling=True):\n",
    "    if scaling:\n",
    "        scaler = StandardScaler()\n",
    "        X = scaler.fit_transform(dataset)\n",
    "    else:\n",
    "        X = dataset\n",
    "        \n",
    "    pca = PCA(0.99, svd_solver='auto', random_state=42)\n",
    "    X_pca = pca.fit_transform(X)\n",
    "    return X_pca"
   ]
  },
  {
   "cell_type": "code",
   "execution_count": 20,
   "metadata": {},
   "outputs": [],
   "source": [
    "x_train_pca = apply_pca(x_train_tw)\n",
    "x_valid_pca = apply_pca(x_valid_tw)"
   ]
  },
  {
   "cell_type": "code",
   "execution_count": 21,
   "metadata": {},
   "outputs": [],
   "source": [
    "scaler = StandardScaler()\n",
    "X_train_scaled = scaler.fit_transform(x_train_pca)\n",
    "X_test_scaled = scaler.transform(x_valid_pca)"
   ]
  },
  {
   "cell_type": "code",
   "execution_count": 62,
   "metadata": {},
   "outputs": [],
   "source": [
    "from sklearn.neural_network import MLPRegressor\n",
    "\n",
    "model = MLPRegressor(hidden_layer_sizes=(20,),\n",
    "                     activation='relu',\n",
    "                     solver='adam',\n",
    "                     early_stopping=False,\n",
    "                     shuffle=True,\n",
    "                     max_iter=250,\n",
    "                     tol=1e-3,\n",
    "                     random_state=0,\n",
    "                     verbose=True)"
   ]
  },
  {
   "cell_type": "code",
   "execution_count": 63,
   "metadata": {
    "scrolled": true
   },
   "outputs": [
    {
     "name": "stdout",
     "output_type": "stream",
     "text": [
      "Iteration 1, loss = 226.85315841\n",
      "Iteration 2, loss = 165.66564964\n",
      "Iteration 3, loss = 157.66651302\n",
      "Iteration 4, loss = 155.39671280\n",
      "Iteration 5, loss = 154.47727948\n",
      "Iteration 6, loss = 154.28183814\n",
      "Iteration 7, loss = 153.62661170\n",
      "Iteration 8, loss = 153.21996934\n",
      "Iteration 9, loss = 153.02217652\n",
      "Iteration 10, loss = 152.89768739\n",
      "Iteration 11, loss = 152.82406122\n",
      "Iteration 12, loss = 152.54384856\n",
      "Iteration 13, loss = 152.48321599\n",
      "Iteration 14, loss = 152.35034827\n",
      "Iteration 15, loss = 152.24281478\n",
      "Iteration 16, loss = 152.13547342\n",
      "Iteration 17, loss = 151.96687873\n",
      "Iteration 18, loss = 151.90180176\n",
      "Iteration 19, loss = 151.78370855\n",
      "Iteration 20, loss = 151.72692009\n",
      "Iteration 21, loss = 151.69609065\n",
      "Iteration 22, loss = 151.61766408\n",
      "Iteration 23, loss = 151.63026135\n",
      "Iteration 24, loss = 151.47090878\n",
      "Iteration 25, loss = 151.25176319\n",
      "Iteration 26, loss = 151.31148699\n",
      "Iteration 27, loss = 151.23900306\n",
      "Iteration 28, loss = 151.12678354\n",
      "Iteration 29, loss = 150.99877159\n",
      "Iteration 30, loss = 150.94577405\n",
      "Iteration 31, loss = 150.81061244\n",
      "Iteration 32, loss = 150.79138474\n",
      "Iteration 33, loss = 150.68148199\n",
      "Iteration 34, loss = 150.72629280\n",
      "Iteration 35, loss = 150.59599527\n",
      "Iteration 36, loss = 150.69924715\n",
      "Iteration 37, loss = 150.47461468\n",
      "Iteration 38, loss = 150.56759805\n",
      "Iteration 39, loss = 150.41233301\n",
      "Iteration 40, loss = 150.35887911\n",
      "Iteration 41, loss = 150.32392751\n",
      "Iteration 42, loss = 150.25474375\n",
      "Iteration 43, loss = 150.19236587\n",
      "Iteration 44, loss = 150.21200238\n",
      "Iteration 45, loss = 150.12242598\n",
      "Iteration 46, loss = 150.15504506\n",
      "Iteration 47, loss = 150.11615341\n",
      "Iteration 48, loss = 149.98410085\n",
      "Iteration 49, loss = 149.90469177\n",
      "Iteration 50, loss = 148.75761616\n",
      "Iteration 51, loss = 148.02725663\n",
      "Iteration 52, loss = 147.68826261\n",
      "Iteration 53, loss = 147.21592603\n",
      "Iteration 54, loss = 146.95863706\n",
      "Iteration 55, loss = 146.69630479\n",
      "Iteration 56, loss = 146.39118948\n",
      "Iteration 57, loss = 146.25004720\n",
      "Iteration 58, loss = 145.98552495\n",
      "Iteration 59, loss = 145.88228947\n",
      "Iteration 60, loss = 145.78733341\n",
      "Iteration 61, loss = 145.50185786\n",
      "Iteration 62, loss = 145.54457659\n",
      "Iteration 63, loss = 145.38483792\n",
      "Iteration 64, loss = 145.35613698\n",
      "Iteration 65, loss = 145.21677780\n",
      "Iteration 66, loss = 145.07953331\n",
      "Iteration 67, loss = 145.19690509\n",
      "Iteration 68, loss = 144.98486797\n",
      "Iteration 69, loss = 144.93687088\n",
      "Iteration 70, loss = 144.83598436\n",
      "Iteration 71, loss = 144.67612205\n",
      "Iteration 72, loss = 144.64654300\n",
      "Iteration 73, loss = 144.58336230\n",
      "Iteration 74, loss = 144.41612648\n",
      "Iteration 75, loss = 144.32994939\n",
      "Iteration 76, loss = 144.27032384\n",
      "Iteration 77, loss = 144.23698792\n",
      "Iteration 78, loss = 144.25835555\n",
      "Iteration 79, loss = 144.16218500\n",
      "Iteration 80, loss = 144.06277838\n",
      "Iteration 81, loss = 144.01874143\n",
      "Iteration 82, loss = 144.03041454\n",
      "Iteration 83, loss = 143.81826362\n",
      "Iteration 84, loss = 143.81322058\n",
      "Iteration 85, loss = 143.74542612\n",
      "Iteration 86, loss = 143.72831875\n",
      "Iteration 87, loss = 143.69625928\n",
      "Iteration 88, loss = 143.69741251\n",
      "Iteration 89, loss = 143.57861545\n",
      "Iteration 90, loss = 143.59738942\n",
      "Iteration 91, loss = 143.51657408\n",
      "Iteration 92, loss = 143.42034790\n",
      "Iteration 93, loss = 143.43527862\n",
      "Iteration 94, loss = 143.38314428\n",
      "Iteration 95, loss = 143.27303577\n",
      "Iteration 96, loss = 143.28025694\n",
      "Iteration 97, loss = 143.25906710\n",
      "Iteration 98, loss = 143.14459932\n",
      "Iteration 99, loss = 143.09409103\n",
      "Iteration 100, loss = 143.06208754\n",
      "Iteration 101, loss = 143.09792091\n",
      "Iteration 102, loss = 142.99095585\n",
      "Iteration 103, loss = 143.00080150\n",
      "Iteration 104, loss = 142.84163114\n",
      "Iteration 105, loss = 142.88230283\n",
      "Iteration 106, loss = 142.84157701\n",
      "Iteration 107, loss = 142.73317722\n",
      "Iteration 108, loss = 142.74892625\n",
      "Iteration 109, loss = 142.68907934\n",
      "Iteration 110, loss = 142.67192094\n",
      "Iteration 111, loss = 142.72756551\n",
      "Iteration 112, loss = 142.69902856\n",
      "Iteration 113, loss = 142.48485031\n",
      "Iteration 114, loss = 142.49836911\n",
      "Iteration 115, loss = 142.49672001\n",
      "Iteration 116, loss = 142.44149914\n",
      "Iteration 117, loss = 142.33666594\n",
      "Iteration 118, loss = 142.39586497\n",
      "Iteration 119, loss = 142.42173475\n",
      "Iteration 120, loss = 142.36796585\n",
      "Iteration 121, loss = 142.22975408\n",
      "Iteration 122, loss = 142.20731926\n",
      "Iteration 123, loss = 142.06872521\n",
      "Iteration 124, loss = 142.09131234\n",
      "Iteration 125, loss = 142.07532348\n",
      "Iteration 126, loss = 142.01420041\n",
      "Iteration 127, loss = 141.93466566\n",
      "Iteration 128, loss = 141.94239932\n",
      "Iteration 129, loss = 141.91928202\n",
      "Iteration 130, loss = 142.04242334\n",
      "Iteration 131, loss = 141.81750251\n",
      "Iteration 132, loss = 141.90582622\n",
      "Iteration 133, loss = 141.85075934\n",
      "Iteration 134, loss = 141.74305502\n",
      "Iteration 135, loss = 141.75289372\n",
      "Iteration 136, loss = 141.80650402\n",
      "Iteration 137, loss = 141.64077359\n",
      "Iteration 138, loss = 141.71453533\n",
      "Iteration 139, loss = 141.68723580\n",
      "Iteration 140, loss = 141.62934299\n",
      "Iteration 141, loss = 141.60482037\n",
      "Iteration 142, loss = 141.44712035\n",
      "Iteration 143, loss = 141.49370608\n",
      "Iteration 144, loss = 141.43473277\n",
      "Iteration 145, loss = 141.43998069\n",
      "Iteration 146, loss = 141.41637799\n",
      "Iteration 147, loss = 141.35435036\n",
      "Iteration 148, loss = 141.33458550\n",
      "Iteration 149, loss = 141.25104038\n",
      "Iteration 150, loss = 141.24532163\n"
     ]
    },
    {
     "name": "stderr",
     "output_type": "stream",
     "text": [
      "D:\\Anaconda\\envs\\py38\\lib\\site-packages\\sklearn\\neural_network\\_multilayer_perceptron.py:614: ConvergenceWarning: Stochastic Optimizer: Maximum iterations (150) reached and the optimization hasn't converged yet.\n",
      "  warnings.warn(\n"
     ]
    },
    {
     "data": {
      "text/plain": [
       "MLPRegressor(hidden_layer_sizes=(20,), max_iter=150, random_state=0, tol=0.001,\n",
       "             verbose=True)"
      ]
     },
     "execution_count": 63,
     "metadata": {},
     "output_type": "execute_result"
    }
   ],
   "source": [
    "model.fit(x_train, y_train)"
   ]
  },
  {
   "cell_type": "code",
   "execution_count": 64,
   "metadata": {
    "scrolled": false
   },
   "outputs": [
    {
     "data": {
      "text/plain": [
       "[<matplotlib.lines.Line2D at 0x20dd0674610>]"
      ]
     },
     "execution_count": 64,
     "metadata": {},
     "output_type": "execute_result"
    },
    {
     "data": {
      "image/png": "[encoded data removed]",
      "text/plain": [
       "<Figure size 432x288 with 1 Axes>"
      ]
     },
     "metadata": {
      "needs_background": "light"
     },
     "output_type": "display_data"
    }
   ],
   "source": [
    "plt.plot(model.loss_curve_)"
   ]
  },
  {
   "cell_type": "code",
   "execution_count": 66,
   "metadata": {},
   "outputs": [],
   "source": [
    "predictions_train = model.predict(x_train)\n",
    "predictions_test = model.predict(x_valid)"
   ]
  },
  {
   "cell_type": "code",
   "execution_count": 96,
   "metadata": {},
   "outputs": [],
   "source": [
    "def cmapss_score_function(actual, predictions):\n",
    "    diff = actual - predictions\n",
    "    alpha = np.full_like(diff, 1/10)\n",
    "    negative_diff_mask = diff < 0\n",
    "    alpha[negative_diff_mask] = 1/13\n",
    "    return np.sum(np.exp(alpha * np.abs(diff)))\n",
    "\n",
    "def evaluation(actual, predictions, label='Test'):\n",
    "    mse = mean_squared_error(actual, predictions)\n",
    "    rmse = np.sqrt(mse)\n",
    "    cmapss_score = cmapss_score_function(actual, predictions)\n",
    "    variance = r2_score(actual, predictions)\n",
    "    print('{} set:\\nMSE: {}\\nRMSE: {}\\nCMAPSS score: {}\\nR2: {}'.format(label, mse, rmse, cmapss_score, variance))"
   ]
  },
  {
   "cell_type": "code",
   "execution_count": 97,
   "metadata": {},
   "outputs": [
    {
     "name": "stdout",
     "output_type": "stream",
     "text": [
      "Train set:\n",
      "MSE: 279.24682285060373\n",
      "RMSE: 16.710679903899894\n",
      "CMAPSS score: 17724807.653319716\n",
      "R2: -0.2098309350415739\n"
     ]
    }
   ],
   "source": [
    "evaluation(predictions_train, y_train, 'Train')"
   ]
  },
  {
   "cell_type": "code",
   "execution_count": 99,
   "metadata": {},
   "outputs": [
    {
     "name": "stdout",
     "output_type": "stream",
     "text": [
      "Test set:\n",
      "MSE: 446.6608328260515\n",
      "RMSE: 21.134351961346045\n",
      "CMAPSS score: 24764587.323494986\n",
      "R2: -2.324797211307641\n"
     ]
    }
   ],
   "source": [
    "evaluation(predictions_test, y_valid)"
   ]
  },
  {
   "cell_type": "code",
   "execution_count": 76,
   "metadata": {},
   "outputs": [
    {
     "data": {
      "text/plain": [
       "<matplotlib.legend.Legend at 0x20dd09454f0>"
      ]
     },
     "execution_count": 76,
     "metadata": {},
     "output_type": "execute_result"
    },
    {
     "data": {
      "image/png": "[encoded data removed]",
      "text/plain": [
       "<Figure size 432x288 with 1 Axes>"
      ]
     },
     "metadata": {
      "needs_background": "light"
     },
     "output_type": "display_data"
    }
   ],
   "source": [
    "expected = y_valid[:20000]\n",
    "predicted = predictions_test[:20000]\n",
    "\n",
    "plt.plot(range(len(expected)), expected, label='Expected')\n",
    "plt.plot(range(len(predicted)), predicted, label='Predicted')\n",
    "plt.legend()"
   ]
  },
  {
   "cell_type": "code",
   "execution_count": 80,
   "metadata": {},
   "outputs": [
    {
     "data": {
      "text/plain": [
       "<matplotlib.legend.Legend at 0x20de46a39a0>"
      ]
     },
     "execution_count": 80,
     "metadata": {},
     "output_type": "execute_result"
    },
    {
     "data": {
      "image/png": "[encoded data removed]",
      "text/plain": [
       "<Figure size 432x288 with 1 Axes>"
      ]
     },
     "metadata": {
      "needs_background": "light"
     },
     "output_type": "display_data"
    }
   ],
   "source": [
    "expected = y_train[:10**5]\n",
    "predicted = predictions_train[:10**5]\n",
    "\n",
    "plt.plot(range(len(expected)), expected, label='Expected')\n",
    "plt.plot(range(len(predicted)), predicted, label='Predicted')\n",
    "plt.legend()"
   ]
  },
  {
   "cell_type": "code",
   "execution_count": 34,
   "metadata": {},
   "outputs": [
    {
     "data": {
      "text/plain": [
       "87.86539729375056"
      ]
     },
     "execution_count": 34,
     "metadata": {},
     "output_type": "execute_result"
    }
   ],
   "source": [
    "predictions_train = model.predict(X_train_scaled)\n",
    "mse_train = mean_squared_error(predictions_train, y_train_tw)\n",
    "mse_train"
   ]
  },
  {
   "cell_type": "code",
   "execution_count": 35,
   "metadata": {},
   "outputs": [
    {
     "data": {
      "text/plain": [
       "<matplotlib.legend.Legend at 0x20dd0395c70>"
      ]
     },
     "execution_count": 35,
     "metadata": {},
     "output_type": "execute_result"
    },
    {
     "data": {
      "image/png": "[encoded data removed]",
      "text/plain": [
       "<Figure size 432x288 with 1 Axes>"
      ]
     },
     "metadata": {
      "needs_background": "light"
     },
     "output_type": "display_data"
    }
   ],
   "source": [
    "plt.plot(y_train_tw[:20000], label='Expected')\n",
    "plt.plot(predictions_train[:20000], label='Predicted')\n",
    "plt.legend()"
   ]
  },
  {
   "cell_type": "code",
   "execution_count": null,
   "metadata": {},
   "outputs": [],
   "source": [
    "from joblib import dump\n",
    "dump(model, 'mlp.joblib') "
   ]
  },
  {
   "cell_type": "code",
   "execution_count": 100,
   "metadata": {},
   "outputs": [
    {
     "data": {
      "text/plain": [
       "LinearRegression()"
      ]
     },
     "execution_count": 100,
     "metadata": {},
     "output_type": "execute_result"
    }
   ],
   "source": [
    "from sklearn.metrics import mean_squared_error, r2_score\n",
    "from sklearn.linear_model import LinearRegression\n",
    "lm = LinearRegression()\n",
    "lm.fit(x_train, y_train)"
   ]
  },
  {
   "cell_type": "code",
   "execution_count": 101,
   "metadata": {},
   "outputs": [],
   "source": [
    "y_hat_train = lm.predict(x_train)\n",
    "y_hat_valid = lm.predict(x_valid)"
   ]
  },
  {
   "cell_type": "code",
   "execution_count": 83,
   "metadata": {},
   "outputs": [],
   "source": []
  },
  {
   "cell_type": "code",
   "execution_count": 102,
   "metadata": {},
   "outputs": [
    {
     "name": "stdout",
     "output_type": "stream",
     "text": [
      "Train set:\n",
      "MSE: 241.43577379127225\n",
      "RMSE: 15.538203686117397\n",
      "CMAPSS score: 23424990739.05549\n",
      "R2: 0.5338720476021973\n"
     ]
    }
   ],
   "source": [
    "evaluation(y_train, y_hat_train, 'Train')"
   ]
  },
  {
   "cell_type": "code",
   "execution_count": 103,
   "metadata": {},
   "outputs": [
    {
     "name": "stdout",
     "output_type": "stream",
     "text": [
      "Test set:\n",
      "MSE: 441.50257572394503\n",
      "RMSE: 21.011962681385693\n",
      "CMAPSS score: 59416803630.40218\n",
      "R2: -0.03398437863702064\n"
     ]
    }
   ],
   "source": [
    "evaluation(y_valid, y_hat_valid, 'Test')"
   ]
  },
  {
   "cell_type": "code",
   "execution_count": 58,
   "metadata": {},
   "outputs": [
    {
     "data": {
      "text/plain": [
       "<matplotlib.legend.Legend at 0x20dd0696fa0>"
      ]
     },
     "execution_count": 58,
     "metadata": {},
     "output_type": "execute_result"
    },
    {
     "data": {
      "image/png": "[encoded data removed]",
      "text/plain": [
       "<Figure size 432x288 with 1 Axes>"
      ]
     },
     "metadata": {
      "needs_background": "light"
     },
     "output_type": "display_data"
    }
   ],
   "source": [
    "plt.plot(y_train[:40000], label='Expected')\n",
    "plt.plot(y_hat_train[:40000], label='Predicted')\n",
    "plt.legend()"
   ]
  },
  {
   "cell_type": "code",
   "execution_count": 48,
   "metadata": {},
   "outputs": [],
   "source": [
    "x_train.drop(labels=['unit'], axis=1, inplace=True)\n",
    "x_valid.drop(labels=['unit'], axis=1, inplace=True)"
   ]
  },
  {
   "cell_type": "code",
   "execution_count": 59,
   "metadata": {},
   "outputs": [
    {
     "data": {
      "text/plain": [
       "array([45.8198356 , 45.97216486, 46.4861072 , ..., 11.03258129,\n",
       "       11.07420235, 11.13825596])"
      ]
     },
     "execution_count": 59,
     "metadata": {},
     "output_type": "execute_result"
    }
   ],
   "source": [
    "y_hat_train"
   ]
  },
  {
   "cell_type": "code",
   "execution_count": 60,
   "metadata": {},
   "outputs": [
    {
     "data": {
      "text/plain": [
       "39.8180254183367"
      ]
     },
     "execution_count": 60,
     "metadata": {},
     "output_type": "execute_result"
    }
   ],
   "source": [
    "np.mean(y_hat_train)"
   ]
  },
  {
   "cell_type": "code",
   "execution_count": 61,
   "metadata": {},
   "outputs": [
    {
     "data": {
      "text/plain": [
       "39.81802541833865"
      ]
     },
     "execution_count": 61,
     "metadata": {},
     "output_type": "execute_result"
    }
   ],
   "source": [
    "np.mean(y_train)"
   ]
  },
  {
   "cell_type": "code",
   "execution_count": null,
   "metadata": {},
   "outputs": [],
   "source": []
  }
 ],
 "metadata": {
  "kernelspec": {
   "display_name": "py38",
   "language": "python",
   "name": "build_central"
  },
  "language_info": {
   "codemirror_mode": {
    "name": "ipython",
    "version": 3
   },
   "file_extension": ".py",
   "mimetype": "text/x-python",
   "name": "python",
   "nbconvert_exporter": "python",
   "pygments_lexer": "ipython3",
   "version": "3.8.5"
  }
 },
 "nbformat": 4,
 "nbformat_minor": 4
}
