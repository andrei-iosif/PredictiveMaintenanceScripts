{
 "cells": [
  {
   "cell_type": "code",
   "execution_count": 1,
   "metadata": {},
   "outputs": [],
   "source": [
    "import os\n",
    "import sys\n",
    "\n",
    "seed = 0\n",
    "os.environ['PYTHONHASSEED'] = str(seed)"
   ]
  },
  {
   "cell_type": "code",
   "execution_count": 31,
   "metadata": {},
   "outputs": [],
   "source": [
    "import numpy as np\n",
    "import pandas as pd\n",
    "import matplotlib.pyplot as plt\n",
    "import seaborn as sns\n",
    "import time\n",
    "import random\n",
    "\n",
    "from tensorflow.random import set_seed\n",
    "\n",
    "from sklearn.preprocessing import StandardScaler\n",
    "from sklearn.model_selection import train_test_split\n",
    "from sklearn.metrics import mean_squared_error\n",
    "\n",
    "from sklearn.model_selection import GridSearchCV\n",
    "from sklearn.ensemble import RandomForestClassifier\n",
    "from sklearn.metrics import roc_auc_score\n",
    "\n",
    "from keras.models import load_model"
   ]
  },
  {
   "cell_type": "code",
   "execution_count": 3,
   "metadata": {},
   "outputs": [],
   "source": [
    "# Add modules path\n",
    "module_path = os.path.abspath(os.path.join('..'))\n",
    "if module_path not in sys.path:\n",
    "    sys.path.append(module_path)"
   ]
  },
  {
   "cell_type": "code",
   "execution_count": 65,
   "metadata": {},
   "outputs": [],
   "source": [
    "from src.data_reader import DataReader\n",
    "from src.metrics import compute_evaluation_metrics\n",
    "from src.model import create_mlp_model, get_callbacks\n",
    "from src.model_evaluation import evaluate_mlp_multiple_splits\n",
    "from src.plotting import plot_loss_curves\n",
    "from src.save_object import load_object, save_object\n",
    "from src.training import train_evaluate_mlp, MLPConfigParams\n",
    "from src.utils import numbers_list_to_string"
   ]
  },
  {
   "cell_type": "code",
   "execution_count": 5,
   "metadata": {},
   "outputs": [],
   "source": [
    "# Set seed\n",
    "random.seed(seed)\n",
    "np.random.seed(seed)\n",
    "set_seed(seed)"
   ]
  },
  {
   "cell_type": "code",
   "execution_count": 6,
   "metadata": {},
   "outputs": [],
   "source": [
    "# Set input and output paths\n",
    "filename = '../data/N-CMAPSS_DS02-006.h5'\n",
    "output_path = '../results/experiment_set_16'\n",
    "\n",
    "if not os.path.exists(output_path):\n",
    "    os.makedirs(output_path)"
   ]
  },
  {
   "cell_type": "code",
   "execution_count": 28,
   "metadata": {},
   "outputs": [],
   "source": [
    "def grid_search(output_path):\n",
    "    param_grid = {\"max_depth\": [2, 3, 4, 5],\n",
    "                  \"max_features\": [\"auto\", \"sqrt\", \"log2\"],\n",
    "                  \"n_estimators\": [50, 100, 200, 300],\n",
    "                  \"criterion\": [\"gini\", \"entropy\"]}\n",
    "\n",
    "    clf = RandomForestClassifier(verbose=0, n_jobs=4)\n",
    "\n",
    "    grid_search = GridSearchCV(clf, cv=3, param_grid=param_grid, verbose=2)\n",
    "    start = time.time()\n",
    "    grid_search.fit(X_train_split, y_train_split)\n",
    "    print(\"GridSearchCV took %.2f seconds for %d candidate parameter settings.\"\n",
    "          % (time.time() - start, len(grid_search.cv_results_)))\n",
    "    save_object(grid_search, os.path.join(output_path, \"grid_search.pkl\"))\n",
    "    \n",
    "def train_classifier(X, y, clf_params):\n",
    "    clf = RandomForestClassifier(n_estimators=clf_params[\"n_estimators\"],\n",
    "                                 max_depth=clf_params[\"max_depth\"], \n",
    "                                 max_features=clf_params[\"max_features\"],\n",
    "                                 criterion=clf_params[\"criterion\"],\n",
    "                                 n_jobs=4)\n",
    "    clf.fit(X, y)\n",
    "    return clf\n",
    "\n",
    "def evaluate_classifier(X, y, clf):\n",
    "    predictions = clf.predict_proba(X)[:, 1]\n",
    "    roc_auc = roc_auc_score(y, predictions)\n",
    "    print('ROC-AUC:', roc_auc)"
   ]
  },
  {
   "cell_type": "code",
   "execution_count": 8,
   "metadata": {},
   "outputs": [
    {
     "name": "stdout",
     "output_type": "stream",
     "text": [
      "Operation time (sec):  4.484375\n",
      "Train set shape: (5263447, 47)\n",
      "Test set shape: (1253743, 47)\n"
     ]
    }
   ],
   "source": [
    "data_reader = DataReader()\n",
    "\n",
    "start_time = time.process_time()  \n",
    "data_reader.load_dataset(filename, load_train=True, load_test=True)\n",
    "print(\"Operation time (sec): \" , (time.process_time() - start_time))\n",
    "\n",
    "if data_reader.train_set is not None:\n",
    "    print(\"Train set shape: \" + str(data_reader.train_set.shape))\n",
    "    \n",
    "if data_reader.test_set is not None:   \n",
    "    print(\"Test set shape: \" + str(data_reader.test_set.shape))"
   ]
  },
  {
   "cell_type": "code",
   "execution_count": 13,
   "metadata": {},
   "outputs": [],
   "source": [
    "train_set = data_reader.train_set\n",
    "test_set = data_reader.test_set"
   ]
  },
  {
   "cell_type": "code",
   "execution_count": 14,
   "metadata": {},
   "outputs": [],
   "source": [
    "selected_columns = data_reader.column_names.w_cols + data_reader.column_names.x_s_cols\n",
    "train_set = train_set[selected_columns]\n",
    "test_set = test_set[selected_columns]"
   ]
  },
  {
   "cell_type": "code",
   "execution_count": 17,
   "metadata": {},
   "outputs": [],
   "source": [
    "N = 10 ** 6\n",
    "\n",
    "# Select N samples from training and test sets\n",
    "train_sample = train_set.sample(n=N, random_state=seed)\n",
    "test_sample = test_set.sample(n=N, random_state=seed)\n",
    "    \n",
    "# Add classifier target column\n",
    "train_sample['is_test'] = 0\n",
    "test_sample['is_test'] = 1\n",
    "    \n",
    "# Concatenate datasets\n",
    "dataset_sample = pd.concat([train_sample, test_sample], ignore_index=True, axis=0)\n",
    "labels = dataset_sample['is_test'].values\n",
    "dataset_sample = dataset_sample.drop('is_test', axis=1).values\n",
    "    \n",
    "x_train_split, x_test_split, y_train_split, y_test_split = train_test_split(dataset_sample, \n",
    "                                                                            labels, \n",
    "                                                                            test_size=0.3, \n",
    "                                                                            random_state=seed,\n",
    "                                                                            stratify=labels)"
   ]
  },
  {
   "cell_type": "code",
   "execution_count": 22,
   "metadata": {},
   "outputs": [],
   "source": [
    "grid_search = load_object(os.path.join(output_path, \"grid_search.pkl\"))\n",
    "grid_search_results = pd.DataFrame(grid_search.cv_results_)\n",
    "best_params = grid_search.best_params_"
   ]
  },
  {
   "cell_type": "code",
   "execution_count": 25,
   "metadata": {},
   "outputs": [],
   "source": [
    "clf = train_classifier(x_train_split, y_train_split, best_params)"
   ]
  },
  {
   "cell_type": "code",
   "execution_count": 26,
   "metadata": {},
   "outputs": [
    {
     "data": {
      "text/plain": [
       "RandomForestClassifier(max_depth=5, max_features='log2', n_jobs=4)"
      ]
     },
     "execution_count": 26,
     "metadata": {},
     "output_type": "execute_result"
    }
   ],
   "source": [
    "clf"
   ]
  },
  {
   "cell_type": "code",
   "execution_count": 29,
   "metadata": {},
   "outputs": [
    {
     "name": "stdout",
     "output_type": "stream",
     "text": [
      "ROC-AUC: 0.6843923489\n"
     ]
    }
   ],
   "source": [
    "evaluate_classifier(x_test_split, y_test_split, clf)"
   ]
  },
  {
   "cell_type": "code",
   "execution_count": 64,
   "metadata": {},
   "outputs": [
    {
     "data": {
      "text/plain": [
       "{'criterion': 'gini',\n",
       " 'max_depth': 5,\n",
       " 'max_features': 'log2',\n",
       " 'n_estimators': 100}"
      ]
     },
     "execution_count": 64,
     "metadata": {},
     "output_type": "execute_result"
    }
   ],
   "source": [
    "best_params"
   ]
  },
  {
   "cell_type": "code",
   "execution_count": 32,
   "metadata": {},
   "outputs": [
    {
     "data": {
      "text/plain": [
       "<AxesSubplot:xlabel='Computed sample weight', ylabel='# Samples'>"
      ]
     },
     "execution_count": 32,
     "metadata": {},
     "output_type": "execute_result"
    },
    {
     "data": {
      "image/png": "[encoded data removed]",
      "text/plain": [
       "<Figure size 432x288 with 1 Axes>"
      ]
     },
     "metadata": {
      "needs_background": "light"
     },
     "output_type": "display_data"
    }
   ],
   "source": [
    "predictions_train = clf.predict_proba(dataset_sample[:500])[:, 1]\n",
    "weights = (1./predictions_train) - 1. \n",
    "weights /= np.mean(weights)\n",
    "plt.xlabel('Computed sample weight')\n",
    "plt.ylabel('# Samples')\n",
    "sns.histplot(weights, kde=False)"
   ]
  },
  {
   "cell_type": "code",
   "execution_count": 33,
   "metadata": {},
   "outputs": [
    {
     "name": "stdout",
     "output_type": "stream",
     "text": [
      "Saved object to file: ../results/experiment_set_16\\classifier.pkl\n"
     ]
    }
   ],
   "source": [
    "save_object(clf, os.path.join(output_path, \"classifier.pkl\"))"
   ]
  },
  {
   "cell_type": "code",
   "execution_count": 34,
   "metadata": {},
   "outputs": [],
   "source": [
    "##################################\n",
    "# Experiment 16 (sample weighting)\n",
    "##################################\n",
    "train_set = data_reader.train_set\n",
    "test_set = data_reader.test_set\n",
    "\n",
    "y_train = train_set['RUL']\n",
    "x_train = train_set.drop(['RUL'], axis=1)\n",
    "\n",
    "y_test = test_set['RUL']\n",
    "x_test = test_set.drop(['RUL'], axis=1)"
   ]
  },
  {
   "cell_type": "code",
   "execution_count": 35,
   "metadata": {},
   "outputs": [],
   "source": [
    "clf = load_object(os.path.join(output_path, \"classifier.pkl\"))"
   ]
  },
  {
   "cell_type": "code",
   "execution_count": 36,
   "metadata": {},
   "outputs": [],
   "source": [
    "selected_columns = data_reader.column_names.w_cols + data_reader.column_names.x_s_cols\n",
    "x_train = x_train[selected_columns]\n",
    "x_test = x_test[selected_columns]"
   ]
  },
  {
   "cell_type": "code",
   "execution_count": 37,
   "metadata": {},
   "outputs": [],
   "source": [
    "x_train = x_train.astype(np.float32)\n",
    "y_train = y_train.astype(np.float32)\n",
    "\n",
    "x_test = x_test.astype(np.float32)\n",
    "y_test = y_test.astype(np.float32)"
   ]
  },
  {
   "cell_type": "code",
   "execution_count": 49,
   "metadata": {},
   "outputs": [],
   "source": [
    "class_pb = clf.predict_proba(x_train)[:, 1]"
   ]
  },
  {
   "cell_type": "code",
   "execution_count": 50,
   "metadata": {},
   "outputs": [],
   "source": [
    "# weights = (1. / class_pb) - 1. \n",
    "# weights /= np.mean(weights)\n",
    "\n",
    "weights = class_pb"
   ]
  },
  {
   "cell_type": "code",
   "execution_count": 51,
   "metadata": {},
   "outputs": [
    {
     "data": {
      "text/plain": [
       "<AxesSubplot:xlabel='Computed sample weight', ylabel='# Samples'>"
      ]
     },
     "execution_count": 51,
     "metadata": {},
     "output_type": "execute_result"
    },
    {
     "data": {
      "image/png": "[encoded data removed]",
      "text/plain": [
       "<Figure size 432x288 with 1 Axes>"
      ]
     },
     "metadata": {
      "needs_background": "light"
     },
     "output_type": "display_data"
    }
   ],
   "source": [
    "plt.xlabel('Computed sample weight')\n",
    "plt.ylabel('# Samples')\n",
    "sns.histplot(weights[:10000], kde=False)"
   ]
  },
  {
   "cell_type": "code",
   "execution_count": 52,
   "metadata": {},
   "outputs": [],
   "source": [
    "weights = pd.DataFrame(weights)"
   ]
  },
  {
   "cell_type": "code",
   "execution_count": 61,
   "metadata": {},
   "outputs": [],
   "source": [
    "def train_evaluate_mlp_sample_weights(x_train, y_train, \n",
    "                                      x_test, y_test,\n",
    "                                      sample_weights,\n",
    "                                      num_trials,\n",
    "                                      mlp_config_params, \n",
    "                                      results_path, \n",
    "                                      epochs, batch_size, results_file=None):\n",
    "\n",
    "    mse_vals = []\n",
    "    rmse_vals = []\n",
    "    cmapss_vals = []\n",
    "\n",
    "    input_dim = x_train.shape[1]\n",
    "\n",
    "    for trial_num in range(num_trials):\n",
    "        # Create results path for current split\n",
    "        results_path_crr_split = os.path.join(results_path, \"split_{}\".format(trial_num))\n",
    "        if not os.path.exists(results_path_crr_split):\n",
    "            os.makedirs(results_path_crr_split)\n",
    "\n",
    "        # Train-validation split for early stopping\n",
    "        x_train_split, x_val_split, y_train_split, y_val_split = train_test_split(x_train,\n",
    "                                                                                  y_train,\n",
    "                                                                                  test_size=0.1,\n",
    "                                                                                  random_state=trial_num)\n",
    "\n",
    "\n",
    "        train_weights = sample_weights.loc[x_train_split.index]\n",
    "        val_weights = sample_weights.loc[x_val_split.index]\n",
    "        \n",
    "        # Standardization\n",
    "        scaler_file = os.path.join(results_path_crr_split, 'scaler.pkl')\n",
    "        scaler = StandardScaler()\n",
    "        x_train_scaled = scaler.fit_transform(x_train_split)\n",
    "        x_val_scaled = scaler.transform(x_val_split)\n",
    "        save_object(scaler, scaler_file)\n",
    "\n",
    "        weights_file = os.path.join(results_path, 'mlp_initial_weights.h5')\n",
    "        model_path = os.path.join(results_path_crr_split, 'mlp_model_trained.h5')\n",
    "\n",
    "        # Initialize weights only in first split\n",
    "        if trial_num == 0:\n",
    "            model = create_mlp_model(input_dim,\n",
    "                                     hidden_layer_sizes=mlp_config_params.layer_sizes,\n",
    "                                     activation=mlp_config_params.activation,\n",
    "                                     dropout=mlp_config_params.dropout,\n",
    "                                     output_weights_file=weights_file)\n",
    "        else:\n",
    "            model = create_mlp_model(input_dim,\n",
    "                                     hidden_layer_sizes=mlp_config_params.layer_sizes,\n",
    "                                     activation=mlp_config_params.activation,\n",
    "                                     dropout=mlp_config_params.dropout)\n",
    "        model.summary()\n",
    "\n",
    "        # Train model\n",
    "        model.compile(loss='mean_squared_error', optimizer='adam')\n",
    "        model.load_weights(weights_file)\n",
    "        history = model.fit(x_train_scaled, y_train_split,\n",
    "                            validation_data=(x_val_scaled, y_val_split, val_weights),\n",
    "                            sample_weight=train_weights,\n",
    "                            epochs=epochs,\n",
    "                            batch_size=batch_size,\n",
    "                            verbose=1,\n",
    "                            callbacks=get_callbacks(model_path))\n",
    "\n",
    "        history_file = os.path.join(results_path_crr_split, f\"history_{trial_num}.pkl\")\n",
    "        plot_loss_curves(history.history)\n",
    "        save_object(history.history, history_file)\n",
    "\n",
    "        # Performance evaluation\n",
    "        x_test_scaled = scaler.transform(x_test)\n",
    "        loaded_model = load_model(model_path)  # load model saved by checkpoint\n",
    "        predictions_test = loaded_model.predict(x_test_scaled).flatten()\n",
    "        mse, rmse, cmapss_score = compute_evaluation_metrics(predictions_test, y_test)\n",
    "\n",
    "        mse_vals.append(mse)\n",
    "        rmse_vals.append(rmse)\n",
    "        cmapss_vals.append(cmapss_score)\n",
    "\n",
    "    mse_mean = np.mean(mse_vals)\n",
    "    mse_std = np.std(mse_vals)\n",
    "    rmse_mean = np.mean(rmse_vals)\n",
    "    rmse_std = np.std(rmse_vals)\n",
    "    cmapss_mean = np.mean(cmapss_vals)\n",
    "    cmapss_std = np.std(cmapss_vals)\n",
    "\n",
    "    if results_file is not None:\n",
    "        with open(results_file, \"a\") as file:\n",
    "            line_to_write = f\"{numbers_list_to_string(mse_vals)}, {numbers_list_to_string(rmse_vals)},\"\n",
    "            line_to_write += f\"{numbers_list_to_string(cmapss_vals)}, {mse_mean}, {mse_std}, {rmse_mean},\"\n",
    "            line_to_write += f\"{rmse_std}, {cmapss_mean}, {cmapss_std}\\n\"\n",
    "            file.write(line_to_write)\n",
    "\n",
    "    print(\"MSE: mean = {:.2f}   stddev = {:.2f}\".format(mse_mean, mse_std))\n",
    "    print(\"RMSE: mean = {:.2f}   stddev = {:.2f}\".format(rmse_mean, rmse_std))\n",
    "    print(\"CMAPSS: mean = {:.2f}   stddev = {:.2f}\".format(cmapss_mean, cmapss_std))\n",
    "\n",
    "    return mse_vals, rmse_vals, cmapss_vals"
   ]
  },
  {
   "cell_type": "code",
   "execution_count": 63,
   "metadata": {
    "scrolled": true
   },
   "outputs": [
    {
     "name": "stdout",
     "output_type": "stream",
     "text": [
      "Saved object to file: ../results/experiment_set_16\\result_weights\\split_0\\scaler.pkl\n",
      "Model: \"sequential_3\"\n",
      "_________________________________________________________________\n",
      "Layer (type)                 Output Shape              Param #   \n",
      "=================================================================\n",
      "dense_10 (Dense)             (None, 256)               4864      \n",
      "_________________________________________________________________\n",
      "dense_11 (Dense)             (None, 256)               65792     \n",
      "_________________________________________________________________\n",
      "dense_12 (Dense)             (None, 512)               131584    \n",
      "_________________________________________________________________\n",
      "dense_13 (Dense)             (None, 64)                32832     \n",
      "_________________________________________________________________\n",
      "dense_14 (Dense)             (None, 1)                 65        \n",
      "=================================================================\n",
      "Total params: 235,137\n",
      "Trainable params: 235,137\n",
      "Non-trainable params: 0\n",
      "_________________________________________________________________\n",
      "Epoch 1/60\n",
      "9250/9253 [============================>.] - ETA: 0s - loss: 53.0956\n",
      "Epoch 00001: val_loss improved from inf to 22.99416, saving model to ../results/experiment_set_16\\result_weights\\split_0\\mlp_model_trained.h5\n",
      "9253/9253 [==============================] - 40s 4ms/step - loss: 53.0882 - val_loss: 22.9942\n",
      "Epoch 2/60\n",
      "9250/9253 [============================>.] - ETA: 0s - loss: 21.8120\n",
      "Epoch 00002: val_loss improved from 22.99416 to 21.48939, saving model to ../results/experiment_set_16\\result_weights\\split_0\\mlp_model_trained.h5\n",
      "9253/9253 [==============================] - 39s 4ms/step - loss: 21.8117 - val_loss: 21.4894\n",
      "Epoch 3/60\n",
      "9250/9253 [============================>.] - ETA: 0s - loss: 18.9923\n",
      "Epoch 00003: val_loss improved from 21.48939 to 18.11448, saving model to ../results/experiment_set_16\\result_weights\\split_0\\mlp_model_trained.h5\n",
      "9253/9253 [==============================] - 40s 4ms/step - loss: 18.9920 - val_loss: 18.1145\n",
      "Epoch 4/60\n",
      "9251/9253 [============================>.] - ETA: 0s - loss: 17.1829\n",
      "Epoch 00004: val_loss improved from 18.11448 to 17.53868, saving model to ../results/experiment_set_16\\result_weights\\split_0\\mlp_model_trained.h5\n",
      "9253/9253 [==============================] - 39s 4ms/step - loss: 17.1827 - val_loss: 17.5387\n",
      "Epoch 5/60\n",
      "9240/9253 [============================>.] - ETA: 0s - loss: 15.9025\n",
      "Epoch 00005: val_loss improved from 17.53868 to 15.93651, saving model to ../results/experiment_set_16\\result_weights\\split_0\\mlp_model_trained.h5\n",
      "9253/9253 [==============================] - 39s 4ms/step - loss: 15.9004 - val_loss: 15.9365\n",
      "Epoch 6/60\n",
      "9248/9253 [============================>.] - ETA: 0s - loss: 15.0194\n",
      "Epoch 00006: val_loss did not improve from 15.93651\n",
      "9253/9253 [==============================] - 39s 4ms/step - loss: 15.0196 - val_loss: 16.7146\n",
      "Epoch 7/60\n",
      "9249/9253 [============================>.] - ETA: 0s - loss: 14.3836\n",
      "Epoch 00007: val_loss improved from 15.93651 to 15.44910, saving model to ../results/experiment_set_16\\result_weights\\split_0\\mlp_model_trained.h5\n",
      "9253/9253 [==============================] - 38s 4ms/step - loss: 14.3834 - val_loss: 15.4491\n",
      "Epoch 8/60\n",
      "9239/9253 [============================>.] - ETA: 0s - loss: 13.8531\n",
      "Epoch 00008: val_loss did not improve from 15.44910\n",
      "9253/9253 [==============================] - 39s 4ms/step - loss: 13.8521 - val_loss: 15.5666\n",
      "Epoch 9/60\n",
      "9246/9253 [============================>.] - ETA: 0s - loss: 13.3347\n",
      "Epoch 00009: val_loss did not improve from 15.44910\n",
      "9253/9253 [==============================] - 39s 4ms/step - loss: 13.3338 - val_loss: 15.8167\n",
      "Epoch 10/60\n",
      "9250/9253 [============================>.] - ETA: 0s - loss: 12.9625\n",
      "Epoch 00010: val_loss did not improve from 15.44910\n",
      "9253/9253 [==============================] - 39s 4ms/step - loss: 12.9627 - val_loss: 17.5576\n",
      "Epoch 11/60\n",
      "9247/9253 [============================>.] - ETA: 0s - loss: 12.4932\n",
      "Epoch 00011: val_loss improved from 15.44910 to 14.91232, saving model to ../results/experiment_set_16\\result_weights\\split_0\\mlp_model_trained.h5\n",
      "9253/9253 [==============================] - 39s 4ms/step - loss: 12.4931 - val_loss: 14.9123\n",
      "Epoch 12/60\n",
      "9239/9253 [============================>.] - ETA: 0s - loss: 12.2372\n",
      "Epoch 00012: val_loss improved from 14.91232 to 11.84761, saving model to ../results/experiment_set_16\\result_weights\\split_0\\mlp_model_trained.h5\n",
      "9253/9253 [==============================] - 39s 4ms/step - loss: 12.2356 - val_loss: 11.8476\n",
      "Epoch 13/60\n",
      "9248/9253 [============================>.] - ETA: 0s - loss: 11.9351\n",
      "Epoch 00013: val_loss did not improve from 11.84761\n",
      "9253/9253 [==============================] - 39s 4ms/step - loss: 11.9353 - val_loss: 14.5989\n",
      "Epoch 14/60\n",
      "9241/9253 [============================>.] - ETA: 0s - loss: 11.6793\n",
      "Epoch 00014: val_loss improved from 11.84761 to 10.71952, saving model to ../results/experiment_set_16\\result_weights\\split_0\\mlp_model_trained.h5\n",
      "9253/9253 [==============================] - 39s 4ms/step - loss: 11.6794 - val_loss: 10.7195\n",
      "Epoch 15/60\n",
      "9250/9253 [============================>.] - ETA: 0s - loss: 11.4033\n",
      "Epoch 00015: val_loss did not improve from 10.71952\n",
      "9253/9253 [==============================] - 39s 4ms/step - loss: 11.4030 - val_loss: 12.6776\n",
      "Epoch 16/60\n",
      "9251/9253 [============================>.] - ETA: 0s - loss: 11.1982\n",
      "Epoch 00016: val_loss did not improve from 10.71952\n",
      "9253/9253 [==============================] - 39s 4ms/step - loss: 11.1982 - val_loss: 13.0322\n",
      "Epoch 17/60\n",
      "9242/9253 [============================>.] - ETA: 0s - loss: 10.9899\n",
      "Epoch 00017: val_loss did not improve from 10.71952\n",
      "9253/9253 [==============================] - 39s 4ms/step - loss: 10.9894 - val_loss: 12.3272\n",
      "Epoch 18/60\n",
      "9240/9253 [============================>.] - ETA: 0s - loss: 10.8479\n",
      "Epoch 00018: val_loss did not improve from 10.71952\n",
      "9253/9253 [==============================] - 39s 4ms/step - loss: 10.8500 - val_loss: 12.6320\n",
      "Epoch 19/60\n",
      "9245/9253 [============================>.] - ETA: 0s - loss: 10.6594\n",
      "Epoch 00019: val_loss improved from 10.71952 to 9.64319, saving model to ../results/experiment_set_16\\result_weights\\split_0\\mlp_model_trained.h5\n",
      "9253/9253 [==============================] - 40s 4ms/step - loss: 10.6593 - val_loss: 9.6432\n",
      "Epoch 20/60\n",
      "9249/9253 [============================>.] - ETA: 0s - loss: 10.5119\n",
      "Epoch 00020: val_loss did not improve from 9.64319\n",
      "9253/9253 [==============================] - 41s 4ms/step - loss: 10.5141 - val_loss: 13.9496\n",
      "Epoch 21/60\n",
      "9247/9253 [============================>.] - ETA: 0s - loss: 10.2910\n",
      "Epoch 00021: val_loss improved from 9.64319 to 9.28690, saving model to ../results/experiment_set_16\\result_weights\\split_0\\mlp_model_trained.h5\n",
      "9253/9253 [==============================] - 39s 4ms/step - loss: 10.2904 - val_loss: 9.2869\n",
      "Epoch 22/60\n",
      "9248/9253 [============================>.] - ETA: 0s - loss: 10.1809\n",
      "Epoch 00022: val_loss did not improve from 9.28690\n",
      "9253/9253 [==============================] - 39s 4ms/step - loss: 10.1816 - val_loss: 10.5530\n",
      "Epoch 23/60\n",
      "9238/9253 [============================>.] - ETA: 0s - loss: 10.0461\n",
      "Epoch 00023: val_loss improved from 9.28690 to 8.96241, saving model to ../results/experiment_set_16\\result_weights\\split_0\\mlp_model_trained.h5\n",
      "9253/9253 [==============================] - 39s 4ms/step - loss: 10.0440 - val_loss: 8.9624\n",
      "Epoch 24/60\n",
      "9246/9253 [============================>.] - ETA: 0s - loss: 9.8603\n",
      "Epoch 00024: val_loss did not improve from 8.96241\n",
      "9253/9253 [==============================] - 39s 4ms/step - loss: 9.8596 - val_loss: 9.1314\n",
      "Epoch 25/60\n",
      "9243/9253 [============================>.] - ETA: 0s - loss: 9.7899\n",
      "Epoch 00025: val_loss did not improve from 8.96241\n",
      "9253/9253 [==============================] - 38s 4ms/step - loss: 9.7900 - val_loss: 9.7255\n",
      "Epoch 26/60\n",
      "9244/9253 [============================>.] - ETA: 0s - loss: 9.6377\n",
      "Epoch 00026: val_loss did not improve from 8.96241\n",
      "9253/9253 [==============================] - 38s 4ms/step - loss: 9.6369 - val_loss: 9.8703\n",
      "Epoch 27/60\n"
     ]
    },
    {
     "name": "stdout",
     "output_type": "stream",
     "text": [
      "9248/9253 [============================>.] - ETA: 0s - loss: 9.5638\n",
      "Epoch 00027: val_loss did not improve from 8.96241\n",
      "9253/9253 [==============================] - 38s 4ms/step - loss: 9.5635 - val_loss: 10.9089\n",
      "Epoch 28/60\n",
      "9241/9253 [============================>.] - ETA: 0s - loss: 9.3381\n",
      "Epoch 00028: val_loss did not improve from 8.96241\n",
      "9253/9253 [==============================] - 38s 4ms/step - loss: 9.3367 - val_loss: 9.5500\n",
      "Epoch 00028: early stopping\n"
     ]
    },
    {
     "data": {
      "image/png": "[encoded data removed]",
      "text/plain": [
       "<Figure size 432x288 with 1 Axes>"
      ]
     },
     "metadata": {
      "needs_background": "light"
     },
     "output_type": "display_data"
    },
    {
     "name": "stdout",
     "output_type": "stream",
     "text": [
      "Saved object to file: ../results/experiment_set_16\\result_weights\\split_0\\history_0.pkl\n",
      "Test set:\n",
      "MSE: 64.52\n",
      "RMSE: 8.03\n",
      "CMAPSS score: 1.81\n",
      "\n",
      "Saved object to file: ../results/experiment_set_16\\result_weights\\split_1\\scaler.pkl\n",
      "Model: \"sequential_4\"\n",
      "_________________________________________________________________\n",
      "Layer (type)                 Output Shape              Param #   \n",
      "=================================================================\n",
      "dense_15 (Dense)             (None, 256)               4864      \n",
      "_________________________________________________________________\n",
      "dense_16 (Dense)             (None, 256)               65792     \n",
      "_________________________________________________________________\n",
      "dense_17 (Dense)             (None, 512)               131584    \n",
      "_________________________________________________________________\n",
      "dense_18 (Dense)             (None, 64)                32832     \n",
      "_________________________________________________________________\n",
      "dense_19 (Dense)             (None, 1)                 65        \n",
      "=================================================================\n",
      "Total params: 235,137\n",
      "Trainable params: 235,137\n",
      "Non-trainable params: 0\n",
      "_________________________________________________________________\n",
      "Epoch 1/60\n",
      "9245/9253 [============================>.] - ETA: 0s - loss: 53.5939\n",
      "Epoch 00001: val_loss improved from inf to 23.16040, saving model to ../results/experiment_set_16\\result_weights\\split_1\\mlp_model_trained.h5\n",
      "9253/9253 [==============================] - 39s 4ms/step - loss: 53.5707 - val_loss: 23.1604\n",
      "Epoch 2/60\n",
      "9244/9253 [============================>.] - ETA: 0s - loss: 21.6522\n",
      "Epoch 00002: val_loss improved from 23.16040 to 22.67327, saving model to ../results/experiment_set_16\\result_weights\\split_1\\mlp_model_trained.h5\n",
      "9253/9253 [==============================] - 39s 4ms/step - loss: 21.6515 - val_loss: 22.6733\n",
      "Epoch 3/60\n",
      "9252/9253 [============================>.] - ETA: 0s - loss: 18.8312\n",
      "Epoch 00003: val_loss improved from 22.67327 to 17.61914, saving model to ../results/experiment_set_16\\result_weights\\split_1\\mlp_model_trained.h5\n",
      "9253/9253 [==============================] - 39s 4ms/step - loss: 18.8312 - val_loss: 17.6191\n",
      "Epoch 4/60\n",
      "9248/9253 [============================>.] - ETA: 0s - loss: 17.0342\n",
      "Epoch 00004: val_loss did not improve from 17.61914\n",
      "9253/9253 [==============================] - 38s 4ms/step - loss: 17.0335 - val_loss: 17.9343\n",
      "Epoch 5/60\n",
      "9247/9253 [============================>.] - ETA: 0s - loss: 15.8395\n",
      "Epoch 00005: val_loss improved from 17.61914 to 14.90025, saving model to ../results/experiment_set_16\\result_weights\\split_1\\mlp_model_trained.h5\n",
      "9253/9253 [==============================] - 39s 4ms/step - loss: 15.8387 - val_loss: 14.9002\n",
      "Epoch 6/60\n",
      "9244/9253 [============================>.] - ETA: 0s - loss: 14.8608\n",
      "Epoch 00006: val_loss improved from 14.90025 to 14.62836, saving model to ../results/experiment_set_16\\result_weights\\split_1\\mlp_model_trained.h5\n",
      "9253/9253 [==============================] - 38s 4ms/step - loss: 14.8588 - val_loss: 14.6284\n",
      "Epoch 7/60\n",
      "9241/9253 [============================>.] - ETA: 0s - loss: 14.1131\n",
      "Epoch 00007: val_loss improved from 14.62836 to 13.47112, saving model to ../results/experiment_set_16\\result_weights\\split_1\\mlp_model_trained.h5\n",
      "9253/9253 [==============================] - 39s 4ms/step - loss: 14.1115 - val_loss: 13.4711\n",
      "Epoch 8/60\n",
      "9250/9253 [============================>.] - ETA: 0s - loss: 13.6067\n",
      "Epoch 00008: val_loss did not improve from 13.47112\n",
      "9253/9253 [==============================] - 38s 4ms/step - loss: 13.6064 - val_loss: 15.5585\n",
      "Epoch 9/60\n",
      "9245/9253 [============================>.] - ETA: 0s - loss: 13.0750\n",
      "Epoch 00009: val_loss did not improve from 13.47112\n",
      "9253/9253 [==============================] - 38s 4ms/step - loss: 13.0758 - val_loss: 18.8250\n",
      "Epoch 10/60\n",
      "9239/9253 [============================>.] - ETA: 0s - loss: 12.6881\n",
      "Epoch 00010: val_loss improved from 13.47112 to 11.14042, saving model to ../results/experiment_set_16\\result_weights\\split_1\\mlp_model_trained.h5\n",
      "9253/9253 [==============================] - 38s 4ms/step - loss: 12.6867 - val_loss: 11.1404\n",
      "Epoch 11/60\n",
      "9246/9253 [============================>.] - ETA: 0s - loss: 12.3103\n",
      "Epoch 00011: val_loss did not improve from 11.14042\n",
      "9253/9253 [==============================] - 38s 4ms/step - loss: 12.3099 - val_loss: 16.2948\n",
      "Epoch 12/60\n",
      "9248/9253 [============================>.] - ETA: 0s - loss: 11.9582\n",
      "Epoch 00012: val_loss did not improve from 11.14042\n",
      "9253/9253 [==============================] - 38s 4ms/step - loss: 11.9579 - val_loss: 13.2037\n",
      "Epoch 13/60\n",
      "9243/9253 [============================>.] - ETA: 0s - loss: 11.7900\n",
      "Epoch 00013: val_loss did not improve from 11.14042\n",
      "9253/9253 [==============================] - 39s 4ms/step - loss: 11.7892 - val_loss: 14.6270\n",
      "Epoch 14/60\n",
      "9251/9253 [============================>.] - ETA: 0s - loss: 11.4399\n",
      "Epoch 00014: val_loss did not improve from 11.14042\n",
      "9253/9253 [==============================] - 38s 4ms/step - loss: 11.4398 - val_loss: 15.9024\n",
      "Epoch 15/60\n",
      "9249/9253 [============================>.] - ETA: 0s - loss: 11.2896\n",
      "Epoch 00015: val_loss improved from 11.14042 to 9.99259, saving model to ../results/experiment_set_16\\result_weights\\split_1\\mlp_model_trained.h5\n",
      "9253/9253 [==============================] - 40s 4ms/step - loss: 11.2896 - val_loss: 9.9926\n",
      "Epoch 16/60\n",
      "9242/9253 [============================>.] - ETA: 0s - loss: 10.9429\n",
      "Epoch 00016: val_loss did not improve from 9.99259\n",
      "9253/9253 [==============================] - 38s 4ms/step - loss: 10.9422 - val_loss: 19.5544\n",
      "Epoch 17/60\n",
      "9243/9253 [============================>.] - ETA: 0s - loss: 10.7353\n",
      "Epoch 00017: val_loss did not improve from 9.99259\n",
      "9253/9253 [==============================] - 39s 4ms/step - loss: 10.7362 - val_loss: 14.0536\n",
      "Epoch 18/60\n",
      "9240/9253 [============================>.] - ETA: 0s - loss: 10.5240\n",
      "Epoch 00018: val_loss did not improve from 9.99259\n",
      "9253/9253 [==============================] - 38s 4ms/step - loss: 10.5238 - val_loss: 12.1186\n",
      "Epoch 19/60\n",
      "9238/9253 [============================>.] - ETA: 0s - loss: 10.3346\n",
      "Epoch 00019: val_loss did not improve from 9.99259\n",
      "9253/9253 [==============================] - 38s 4ms/step - loss: 10.3339 - val_loss: 14.7970\n",
      "Epoch 20/60\n",
      "9244/9253 [============================>.] - ETA: 0s - loss: 10.2037\n",
      "Epoch 00020: val_loss did not improve from 9.99259\n",
      "9253/9253 [==============================] - 38s 4ms/step - loss: 10.2030 - val_loss: 10.4514\n",
      "Epoch 00020: early stopping\n"
     ]
    },
    {
     "data": {
      "image/png": "[encoded data removed]",
      "text/plain": [
       "<Figure size 432x288 with 1 Axes>"
      ]
     },
     "metadata": {
      "needs_background": "light"
     },
     "output_type": "display_data"
    },
    {
     "name": "stdout",
     "output_type": "stream",
     "text": [
      "Saved object to file: ../results/experiment_set_16\\result_weights\\split_1\\history_1.pkl\n",
      "Test set:\n",
      "MSE: 59.24\n",
      "RMSE: 7.70\n",
      "CMAPSS score: 1.75\n",
      "\n",
      "Saved object to file: ../results/experiment_set_16\\result_weights\\split_2\\scaler.pkl\n",
      "Model: \"sequential_5\"\n",
      "_________________________________________________________________\n",
      "Layer (type)                 Output Shape              Param #   \n",
      "=================================================================\n",
      "dense_20 (Dense)             (None, 256)               4864      \n",
      "_________________________________________________________________\n",
      "dense_21 (Dense)             (None, 256)               65792     \n",
      "_________________________________________________________________\n",
      "dense_22 (Dense)             (None, 512)               131584    \n",
      "_________________________________________________________________\n",
      "dense_23 (Dense)             (None, 64)                32832     \n",
      "_________________________________________________________________\n",
      "dense_24 (Dense)             (None, 1)                 65        \n",
      "=================================================================\n",
      "Total params: 235,137\n",
      "Trainable params: 235,137\n",
      "Non-trainable params: 0\n",
      "_________________________________________________________________\n",
      "Epoch 1/60\n",
      "9252/9253 [============================>.] - ETA: 0s - loss: 52.9819\n",
      "Epoch 00001: val_loss improved from inf to 23.71469, saving model to ../results/experiment_set_16\\result_weights\\split_2\\mlp_model_trained.h5\n",
      "9253/9253 [==============================] - 38s 4ms/step - loss: 52.9813 - val_loss: 23.7147\n",
      "Epoch 2/60\n",
      "9247/9253 [============================>.] - ETA: 0s - loss: 21.5642\n",
      "Epoch 00002: val_loss improved from 23.71469 to 23.19131, saving model to ../results/experiment_set_16\\result_weights\\split_2\\mlp_model_trained.h5\n",
      "9253/9253 [==============================] - 39s 4ms/step - loss: 21.5626 - val_loss: 23.1913\n",
      "Epoch 3/60\n",
      "9251/9253 [============================>.] - ETA: 0s - loss: 18.8370\n",
      "Epoch 00003: val_loss improved from 23.19131 to 17.23492, saving model to ../results/experiment_set_16\\result_weights\\split_2\\mlp_model_trained.h5\n",
      "9253/9253 [==============================] - 38s 4ms/step - loss: 18.8368 - val_loss: 17.2349\n",
      "Epoch 4/60\n",
      "9248/9253 [============================>.] - ETA: 0s - loss: 17.0784\n",
      "Epoch 00004: val_loss did not improve from 17.23492\n",
      "9253/9253 [==============================] - 38s 4ms/step - loss: 17.0785 - val_loss: 18.6509\n",
      "Epoch 5/60\n",
      "9251/9253 [============================>.] - ETA: 0s - loss: 16.0327\n",
      "Epoch 00005: val_loss improved from 17.23492 to 14.87461, saving model to ../results/experiment_set_16\\result_weights\\split_2\\mlp_model_trained.h5\n",
      "9253/9253 [==============================] - 39s 4ms/step - loss: 16.0324 - val_loss: 14.8746\n",
      "Epoch 6/60\n",
      "9250/9253 [============================>.] - ETA: 0s - loss: 15.0109\n",
      "Epoch 00006: val_loss improved from 14.87461 to 13.71134, saving model to ../results/experiment_set_16\\result_weights\\split_2\\mlp_model_trained.h5\n",
      "9253/9253 [==============================] - 38s 4ms/step - loss: 15.0102 - val_loss: 13.7113\n",
      "Epoch 7/60\n",
      "9249/9253 [============================>.] - ETA: 0s - loss: 14.3046\n",
      "Epoch 00007: val_loss did not improve from 13.71134\n",
      "9253/9253 [==============================] - 38s 4ms/step - loss: 14.3047 - val_loss: 17.0435\n",
      "Epoch 8/60\n",
      "9248/9253 [============================>.] - ETA: 0s - loss: 13.6847\n",
      "Epoch 00008: val_loss did not improve from 13.71134\n",
      "9253/9253 [==============================] - 38s 4ms/step - loss: 13.6842 - val_loss: 14.9785\n",
      "Epoch 9/60\n",
      "9248/9253 [============================>.] - ETA: 0s - loss: 13.1710\n",
      "Epoch 00009: val_loss improved from 13.71134 to 13.09362, saving model to ../results/experiment_set_16\\result_weights\\split_2\\mlp_model_trained.h5\n",
      "9253/9253 [==============================] - 39s 4ms/step - loss: 13.1713 - val_loss: 13.0936\n",
      "Epoch 10/60\n",
      "9248/9253 [============================>.] - ETA: 0s - loss: 12.8223\n",
      "Epoch 00010: val_loss improved from 13.09362 to 12.33460, saving model to ../results/experiment_set_16\\result_weights\\split_2\\mlp_model_trained.h5\n",
      "9253/9253 [==============================] - 38s 4ms/step - loss: 12.8228 - val_loss: 12.3346\n",
      "Epoch 11/60\n",
      "9251/9253 [============================>.] - ETA: 0s - loss: 12.4517\n",
      "Epoch 00011: val_loss did not improve from 12.33460\n",
      "9253/9253 [==============================] - 38s 4ms/step - loss: 12.4514 - val_loss: 12.3674\n",
      "Epoch 12/60\n",
      "9245/9253 [============================>.] - ETA: 0s - loss: 12.0737\n",
      "Epoch 00012: val_loss did not improve from 12.33460\n",
      "9253/9253 [==============================] - 38s 4ms/step - loss: 12.0734 - val_loss: 14.9088\n",
      "Epoch 13/60\n",
      "9246/9253 [============================>.] - ETA: 0s - loss: 11.9025\n",
      "Epoch 00013: val_loss did not improve from 12.33460\n",
      "9253/9253 [==============================] - 38s 4ms/step - loss: 11.9045 - val_loss: 20.5700\n",
      "Epoch 14/60\n",
      "9246/9253 [============================>.] - ETA: 0s - loss: 11.5544\n",
      "Epoch 00014: val_loss did not improve from 12.33460\n",
      "9253/9253 [==============================] - 38s 4ms/step - loss: 11.5544 - val_loss: 13.1775\n",
      "Epoch 15/60\n",
      "9252/9253 [============================>.] - ETA: 0s - loss: 11.4041\n",
      "Epoch 00015: val_loss did not improve from 12.33460\n",
      "9253/9253 [==============================] - 39s 4ms/step - loss: 11.4041 - val_loss: 15.0084\n",
      "Epoch 00015: early stopping\n"
     ]
    },
    {
     "data": {
      "image/png": "[encoded data removed]",
      "text/plain": [
       "<Figure size 432x288 with 1 Axes>"
      ]
     },
     "metadata": {
      "needs_background": "light"
     },
     "output_type": "display_data"
    },
    {
     "name": "stdout",
     "output_type": "stream",
     "text": [
      "Saved object to file: ../results/experiment_set_16\\result_weights\\split_2\\history_2.pkl\n",
      "Test set:\n",
      "MSE: 63.07\n",
      "RMSE: 7.94\n",
      "CMAPSS score: 1.79\n",
      "\n",
      "MSE: mean = 62.28   stddev = 2.23\n",
      "RMSE: mean = 7.89   stddev = 0.14\n",
      "CMAPSS: mean = 1.78   stddev = 0.02\n"
     ]
    },
    {
     "data": {
      "text/plain": [
       "([64.51611, 59.24249, 63.0728],\n",
       " [8.032192, 7.696914, 7.9418387],\n",
       " [1.805839793322874, 1.7458514225004647, 1.7861469615383696])"
      ]
     },
     "execution_count": 63,
     "metadata": {},
     "output_type": "execute_result"
    }
   ],
   "source": [
    "# Train single MLP\n",
    "EPOCHS = 60\n",
    "BATCH_SIZE = 512\n",
    "NUM_TRIALS = 3\n",
    "mlp_config_params = MLPConfigParams(layer_sizes=[256, 256, 512, 64], activation='tanh', dropout=0.0)\n",
    "\n",
    "results_path = os.path.join(output_path, f\"result_weights\")\n",
    "if not os.path.exists(results_path):\n",
    "    os.makedirs(results_path)\n",
    "\n",
    "train_evaluate_mlp_sample_weights(\n",
    "        x_train, y_train, \n",
    "        x_test, y_test,\n",
    "        weights,\n",
    "        NUM_TRIALS,\n",
    "        mlp_config_params, \n",
    "        results_path, \n",
    "        EPOCHS, BATCH_SIZE)"
   ]
  },
  {
   "cell_type": "code",
   "execution_count": 66,
   "metadata": {},
   "outputs": [
    {
     "data": {
      "image/png": "[encoded data removed]",
      "text/plain": [
       "<Figure size 432x288 with 1 Axes>"
      ]
     },
     "metadata": {
      "needs_background": "light"
     },
     "output_type": "display_data"
    },
    {
     "name": "stdout",
     "output_type": "stream",
     "text": [
      "Test set:\n",
      "MSE: 64.52\n",
      "RMSE: 8.03\n",
      "CMAPSS score: 1.81\n",
      "\n"
     ]
    },
    {
     "data": {
      "image/png": "[encoded data removed]",
      "text/plain": [
       "<Figure size 432x288 with 1 Axes>"
      ]
     },
     "metadata": {
      "needs_background": "light"
     },
     "output_type": "display_data"
    },
    {
     "name": "stdout",
     "output_type": "stream",
     "text": [
      "Test set:\n",
      "MSE: 59.24\n",
      "RMSE: 7.70\n",
      "CMAPSS score: 1.75\n",
      "\n"
     ]
    },
    {
     "data": {
      "image/png": "[encoded data removed]",
      "text/plain": [
       "<Figure size 432x288 with 1 Axes>"
      ]
     },
     "metadata": {
      "needs_background": "light"
     },
     "output_type": "display_data"
    },
    {
     "name": "stdout",
     "output_type": "stream",
     "text": [
      "Test set:\n",
      "MSE: 63.07\n",
      "RMSE: 7.94\n",
      "CMAPSS score: 1.79\n",
      "\n",
      "MSE: mean = 62.28   stddev = 2.23\n",
      "RMSE: mean = 7.89   stddev = 0.14\n",
      "CMAPSS: mean = 1.78   stddev = 0.02\n"
     ]
    }
   ],
   "source": [
    "# Evaluate\n",
    "NUM_TRIALS = 3\n",
    "TRAIN_RESULTS_PATH = os.path.join(output_path, f\"result_weights\")\n",
    "\n",
    "results = evaluate_mlp_multiple_splits(x_test, y_test, NUM_TRIALS, TRAIN_RESULTS_PATH, plot_loss=True)"
   ]
  },
  {
   "cell_type": "code",
   "execution_count": null,
   "metadata": {},
   "outputs": [],
   "source": []
  }
 ],
 "metadata": {
  "kernelspec": {
   "display_name": "tf-keras-gpu",
   "language": "python",
   "name": "tf-keras-gpu"
  },
  "language_info": {
   "codemirror_mode": {
    "name": "ipython",
    "version": 3
   },
   "file_extension": ".py",
   "mimetype": "text/x-python",
   "name": "python",
   "nbconvert_exporter": "python",
   "pygments_lexer": "ipython3",
   "version": "3.8.5"
  }
 },
 "nbformat": 4,
 "nbformat_minor": 4
}
